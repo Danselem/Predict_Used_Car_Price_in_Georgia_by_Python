{
 "cells": [
  {
   "cell_type": "code",
   "execution_count": 1,
   "metadata": {},
   "outputs": [],
   "source": [
    "import MySQLdb, pickle\n",
    "import pandas as pd\n",
    "from sqlalchemy import create_engine\n",
    "from collections import Counter"
   ]
  },
  {
   "cell_type": "code",
   "execution_count": 4,
   "metadata": {},
   "outputs": [
    {
     "data": {
      "text/html": [
       "<div>\n",
       "<style>\n",
       "    .dataframe thead tr:only-child th {\n",
       "        text-align: right;\n",
       "    }\n",
       "\n",
       "    .dataframe thead th {\n",
       "        text-align: left;\n",
       "    }\n",
       "\n",
       "    .dataframe tbody tr th {\n",
       "        vertical-align: top;\n",
       "    }\n",
       "</style>\n",
       "<table border=\"1\" class=\"dataframe\">\n",
       "  <thead>\n",
       "    <tr style=\"text-align: right;\">\n",
       "      <th></th>\n",
       "      <th>index</th>\n",
       "      <th>year</th>\n",
       "      <th>title</th>\n",
       "      <th>brand</th>\n",
       "      <th>model</th>\n",
       "      <th>miles</th>\n",
       "      <th>photos</th>\n",
       "      <th>video</th>\n",
       "      <th>exterior_color</th>\n",
       "      <th>interior_color</th>\n",
       "      <th>transmission</th>\n",
       "      <th>drivetrain</th>\n",
       "      <th>star</th>\n",
       "      <th>review_no</th>\n",
       "      <th>vendor</th>\n",
       "      <th>price</th>\n",
       "    </tr>\n",
       "  </thead>\n",
       "  <tbody>\n",
       "    <tr>\n",
       "      <th>0</th>\n",
       "      <td>0</td>\n",
       "      <td>2003</td>\n",
       "      <td>mazda tribute lx v6</td>\n",
       "      <td>mazda</td>\n",
       "      <td>tribute</td>\n",
       "      <td>118205</td>\n",
       "      <td>21</td>\n",
       "      <td>1</td>\n",
       "      <td>silver</td>\n",
       "      <td>gray</td>\n",
       "      <td>4-speed</td>\n",
       "      <td>fwd</td>\n",
       "      <td>5</td>\n",
       "      <td>43</td>\n",
       "      <td>1st choice autos</td>\n",
       "      <td>3750</td>\n",
       "    </tr>\n",
       "    <tr>\n",
       "      <th>1</th>\n",
       "      <td>1</td>\n",
       "      <td>2016</td>\n",
       "      <td>subaru crosstrek 2.0i</td>\n",
       "      <td>subaru</td>\n",
       "      <td>crosstrek</td>\n",
       "      <td>26525</td>\n",
       "      <td>23</td>\n",
       "      <td>1</td>\n",
       "      <td>desert</td>\n",
       "      <td>black</td>\n",
       "      <td>5-speed</td>\n",
       "      <td>4wd</td>\n",
       "      <td>5</td>\n",
       "      <td>43</td>\n",
       "      <td>1st choice autos</td>\n",
       "      <td>17999</td>\n",
       "    </tr>\n",
       "    <tr>\n",
       "      <th>2</th>\n",
       "      <td>2</td>\n",
       "      <td>2018</td>\n",
       "      <td>ford f-150 raptor</td>\n",
       "      <td>ford</td>\n",
       "      <td>f-150</td>\n",
       "      <td>2330</td>\n",
       "      <td>32</td>\n",
       "      <td>1</td>\n",
       "      <td>race</td>\n",
       "      <td>black</td>\n",
       "      <td>10-speed</td>\n",
       "      <td>4wd</td>\n",
       "      <td>5</td>\n",
       "      <td>244</td>\n",
       "      <td>gilbert &amp;  baugh ford</td>\n",
       "      <td>53900</td>\n",
       "    </tr>\n",
       "    <tr>\n",
       "      <th>3</th>\n",
       "      <td>3</td>\n",
       "      <td>2015</td>\n",
       "      <td>lexus rc f</td>\n",
       "      <td>lexus</td>\n",
       "      <td>rc</td>\n",
       "      <td>27080</td>\n",
       "      <td>23</td>\n",
       "      <td>1</td>\n",
       "      <td>black</td>\n",
       "      <td>red</td>\n",
       "      <td>8-speed</td>\n",
       "      <td>rwd</td>\n",
       "      <td>5</td>\n",
       "      <td>6</td>\n",
       "      <td>carmax south boulevard</td>\n",
       "      <td>43998</td>\n",
       "    </tr>\n",
       "    <tr>\n",
       "      <th>4</th>\n",
       "      <td>4</td>\n",
       "      <td>2014</td>\n",
       "      <td>mercedes-benz s 550</td>\n",
       "      <td>mercedes-benz</td>\n",
       "      <td>s</td>\n",
       "      <td>121078</td>\n",
       "      <td>32</td>\n",
       "      <td>1</td>\n",
       "      <td>palladium</td>\n",
       "      <td>silk beige</td>\n",
       "      <td>7-speed</td>\n",
       "      <td>rwd</td>\n",
       "      <td>5</td>\n",
       "      <td>939</td>\n",
       "      <td>hendrickbmw</td>\n",
       "      <td>32991</td>\n",
       "    </tr>\n",
       "    <tr>\n",
       "      <th>5</th>\n",
       "      <td>5</td>\n",
       "      <td>2016</td>\n",
       "      <td>mercedes-benz gl 63 amg 4matic</td>\n",
       "      <td>mercedes-benz</td>\n",
       "      <td>gl</td>\n",
       "      <td>17582</td>\n",
       "      <td>32</td>\n",
       "      <td>1</td>\n",
       "      <td>black</td>\n",
       "      <td>auburn brown</td>\n",
       "      <td>7-speed</td>\n",
       "      <td>4wd</td>\n",
       "      <td>5</td>\n",
       "      <td>19</td>\n",
       "      <td>global motorsports inc.</td>\n",
       "      <td>79895</td>\n",
       "    </tr>\n",
       "    <tr>\n",
       "      <th>6</th>\n",
       "      <td>6</td>\n",
       "      <td>2017</td>\n",
       "      <td>infiniti q50 3.0t premium</td>\n",
       "      <td>infiniti</td>\n",
       "      <td>q50</td>\n",
       "      <td>31736</td>\n",
       "      <td>26</td>\n",
       "      <td>1</td>\n",
       "      <td>platinum</td>\n",
       "      <td>black</td>\n",
       "      <td>7-speed</td>\n",
       "      <td>rwd</td>\n",
       "      <td>5</td>\n",
       "      <td>18</td>\n",
       "      <td>hertz car  sales winston-salem</td>\n",
       "      <td>19998</td>\n",
       "    </tr>\n",
       "    <tr>\n",
       "      <th>7</th>\n",
       "      <td>7</td>\n",
       "      <td>2016</td>\n",
       "      <td>jeep compass latitude</td>\n",
       "      <td>jeep</td>\n",
       "      <td>compass</td>\n",
       "      <td>46644</td>\n",
       "      <td>25</td>\n",
       "      <td>1</td>\n",
       "      <td>granite</td>\n",
       "      <td>dark slate</td>\n",
       "      <td>6-speed</td>\n",
       "      <td>fwd</td>\n",
       "      <td>5</td>\n",
       "      <td>90</td>\n",
       "      <td>hertz car  sales  orlando</td>\n",
       "      <td>11488</td>\n",
       "    </tr>\n",
       "    <tr>\n",
       "      <th>8</th>\n",
       "      <td>8</td>\n",
       "      <td>2008</td>\n",
       "      <td>subaru outback</td>\n",
       "      <td>subaru</td>\n",
       "      <td>outback</td>\n",
       "      <td>199532</td>\n",
       "      <td>29</td>\n",
       "      <td>1</td>\n",
       "      <td>gray</td>\n",
       "      <td>gray</td>\n",
       "      <td>6-speed</td>\n",
       "      <td>4wd</td>\n",
       "      <td>5</td>\n",
       "      <td>16</td>\n",
       "      <td>sharpmotors</td>\n",
       "      <td>3950</td>\n",
       "    </tr>\n",
       "    <tr>\n",
       "      <th>9</th>\n",
       "      <td>9</td>\n",
       "      <td>2016</td>\n",
       "      <td>tesla model x p90d</td>\n",
       "      <td>tesla</td>\n",
       "      <td>model</td>\n",
       "      <td>17342</td>\n",
       "      <td>32</td>\n",
       "      <td>1</td>\n",
       "      <td>black</td>\n",
       "      <td>black</td>\n",
       "      <td>1-speed</td>\n",
       "      <td>4wd</td>\n",
       "      <td>5</td>\n",
       "      <td>96</td>\n",
       "      <td>bayshoreautomotive</td>\n",
       "      <td>104890</td>\n",
       "    </tr>\n",
       "    <tr>\n",
       "      <th>10</th>\n",
       "      <td>10</td>\n",
       "      <td>2004</td>\n",
       "      <td>bmw 645 ci</td>\n",
       "      <td>bmw</td>\n",
       "      <td>645</td>\n",
       "      <td>106334</td>\n",
       "      <td>31</td>\n",
       "      <td>1</td>\n",
       "      <td>silver</td>\n",
       "      <td>creme beige</td>\n",
       "      <td>6-speed</td>\n",
       "      <td>rwd</td>\n",
       "      <td>5</td>\n",
       "      <td>77</td>\n",
       "      <td>rdu auto sales</td>\n",
       "      <td>9995</td>\n",
       "    </tr>\n",
       "    <tr>\n",
       "      <th>11</th>\n",
       "      <td>11</td>\n",
       "      <td>2010</td>\n",
       "      <td>toyota tundra</td>\n",
       "      <td>toyota</td>\n",
       "      <td>tundra</td>\n",
       "      <td>212000</td>\n",
       "      <td>23</td>\n",
       "      <td>1</td>\n",
       "      <td>white</td>\n",
       "      <td>tan</td>\n",
       "      <td>6-speed</td>\n",
       "      <td>4wd</td>\n",
       "      <td>5</td>\n",
       "      <td>6</td>\n",
       "      <td>motortime auto sales</td>\n",
       "      <td>11995</td>\n",
       "    </tr>\n",
       "    <tr>\n",
       "      <th>12</th>\n",
       "      <td>12</td>\n",
       "      <td>2016</td>\n",
       "      <td>chevrolet corvette z06</td>\n",
       "      <td>chevrolet</td>\n",
       "      <td>corvette</td>\n",
       "      <td>11124</td>\n",
       "      <td>28</td>\n",
       "      <td>1</td>\n",
       "      <td>beach</td>\n",
       "      <td>brownstone</td>\n",
       "      <td>8-speed</td>\n",
       "      <td>rwd</td>\n",
       "      <td>4</td>\n",
       "      <td>86</td>\n",
       "      <td>skylineimports</td>\n",
       "      <td>67900</td>\n",
       "    </tr>\n",
       "    <tr>\n",
       "      <th>13</th>\n",
       "      <td>13</td>\n",
       "      <td>2016</td>\n",
       "      <td>lexus gs f base</td>\n",
       "      <td>lexus</td>\n",
       "      <td>gs</td>\n",
       "      <td>30646</td>\n",
       "      <td>32</td>\n",
       "      <td>1</td>\n",
       "      <td>nebula</td>\n",
       "      <td>red</td>\n",
       "      <td>8-speed</td>\n",
       "      <td>rwd</td>\n",
       "      <td>5</td>\n",
       "      <td>117</td>\n",
       "      <td>motorcarslouisiana</td>\n",
       "      <td>56900</td>\n",
       "    </tr>\n",
       "    <tr>\n",
       "      <th>14</th>\n",
       "      <td>14</td>\n",
       "      <td>2012</td>\n",
       "      <td>ram 1500 st</td>\n",
       "      <td>ram</td>\n",
       "      <td>1500</td>\n",
       "      <td>159272</td>\n",
       "      <td>20</td>\n",
       "      <td>1</td>\n",
       "      <td>true</td>\n",
       "      <td>dark slate medium</td>\n",
       "      <td>6-speed</td>\n",
       "      <td>rwd</td>\n",
       "      <td>5</td>\n",
       "      <td>10</td>\n",
       "      <td>n &amp;  n  auto</td>\n",
       "      <td>10935</td>\n",
       "    </tr>\n",
       "    <tr>\n",
       "      <th>15</th>\n",
       "      <td>15</td>\n",
       "      <td>2008</td>\n",
       "      <td>honda cr-v ex-l</td>\n",
       "      <td>honda</td>\n",
       "      <td>cr-v</td>\n",
       "      <td>93043</td>\n",
       "      <td>32</td>\n",
       "      <td>1</td>\n",
       "      <td>black</td>\n",
       "      <td>gray</td>\n",
       "      <td>5-speed</td>\n",
       "      <td>4wd</td>\n",
       "      <td>5</td>\n",
       "      <td>7</td>\n",
       "      <td>auto mart  of ohio</td>\n",
       "      <td>8995</td>\n",
       "    </tr>\n",
       "    <tr>\n",
       "      <th>16</th>\n",
       "      <td>16</td>\n",
       "      <td>2014</td>\n",
       "      <td>maserati ghibli s q4</td>\n",
       "      <td>maserati</td>\n",
       "      <td>ghibli</td>\n",
       "      <td>36037</td>\n",
       "      <td>31</td>\n",
       "      <td>1</td>\n",
       "      <td>black</td>\n",
       "      <td>black</td>\n",
       "      <td>8-speed</td>\n",
       "      <td>4wd</td>\n",
       "      <td>5</td>\n",
       "      <td>15</td>\n",
       "      <td>creeksideauto</td>\n",
       "      <td>33495</td>\n",
       "    </tr>\n",
       "    <tr>\n",
       "      <th>17</th>\n",
       "      <td>17</td>\n",
       "      <td>2014</td>\n",
       "      <td>mercedes-benz cla 250 4matic</td>\n",
       "      <td>mercedes-benz</td>\n",
       "      <td>cla</td>\n",
       "      <td>40784</td>\n",
       "      <td>32</td>\n",
       "      <td>1</td>\n",
       "      <td>white</td>\n",
       "      <td>black</td>\n",
       "      <td>7-speed</td>\n",
       "      <td>4wd</td>\n",
       "      <td>5</td>\n",
       "      <td>23</td>\n",
       "      <td>jumbo luxury cars</td>\n",
       "      <td>16990</td>\n",
       "    </tr>\n",
       "    <tr>\n",
       "      <th>18</th>\n",
       "      <td>18</td>\n",
       "      <td>2006</td>\n",
       "      <td>rolls-royce phantom vi base</td>\n",
       "      <td>rolls-royce</td>\n",
       "      <td>phantom</td>\n",
       "      <td>23050</td>\n",
       "      <td>32</td>\n",
       "      <td>1</td>\n",
       "      <td>gray</td>\n",
       "      <td>tan</td>\n",
       "      <td>6-speed</td>\n",
       "      <td>rwd</td>\n",
       "      <td>5</td>\n",
       "      <td>23</td>\n",
       "      <td>jumbo luxury cars</td>\n",
       "      <td>105000</td>\n",
       "    </tr>\n",
       "    <tr>\n",
       "      <th>19</th>\n",
       "      <td>19</td>\n",
       "      <td>2015</td>\n",
       "      <td>mercedes-benz c 300</td>\n",
       "      <td>mercedes-benz</td>\n",
       "      <td>c</td>\n",
       "      <td>35286</td>\n",
       "      <td>32</td>\n",
       "      <td>1</td>\n",
       "      <td>silver</td>\n",
       "      <td>black</td>\n",
       "      <td>7-speed</td>\n",
       "      <td>4wd</td>\n",
       "      <td>5</td>\n",
       "      <td>23</td>\n",
       "      <td>jumbo luxury cars</td>\n",
       "      <td>23990</td>\n",
       "    </tr>\n",
       "  </tbody>\n",
       "</table>\n",
       "</div>"
      ],
      "text/plain": [
       "    index  year                           title          brand      model  \\\n",
       "0       0  2003             mazda tribute lx v6          mazda    tribute   \n",
       "1       1  2016           subaru crosstrek 2.0i         subaru  crosstrek   \n",
       "2       2  2018               ford f-150 raptor           ford      f-150   \n",
       "3       3  2015                      lexus rc f          lexus         rc   \n",
       "4       4  2014             mercedes-benz s 550  mercedes-benz          s   \n",
       "5       5  2016  mercedes-benz gl 63 amg 4matic  mercedes-benz         gl   \n",
       "6       6  2017       infiniti q50 3.0t premium       infiniti        q50   \n",
       "7       7  2016           jeep compass latitude           jeep    compass   \n",
       "8       8  2008                  subaru outback         subaru    outback   \n",
       "9       9  2016              tesla model x p90d          tesla      model   \n",
       "10     10  2004                      bmw 645 ci            bmw        645   \n",
       "11     11  2010                   toyota tundra         toyota     tundra   \n",
       "12     12  2016          chevrolet corvette z06      chevrolet   corvette   \n",
       "13     13  2016                 lexus gs f base          lexus         gs   \n",
       "14     14  2012                     ram 1500 st            ram       1500   \n",
       "15     15  2008                 honda cr-v ex-l          honda       cr-v   \n",
       "16     16  2014            maserati ghibli s q4       maserati     ghibli   \n",
       "17     17  2014    mercedes-benz cla 250 4matic  mercedes-benz        cla   \n",
       "18     18  2006     rolls-royce phantom vi base    rolls-royce    phantom   \n",
       "19     19  2015             mercedes-benz c 300  mercedes-benz          c   \n",
       "\n",
       "     miles  photos  video exterior_color     interior_color transmission  \\\n",
       "0   118205      21      1         silver               gray      4-speed   \n",
       "1    26525      23      1         desert              black      5-speed   \n",
       "2     2330      32      1           race              black     10-speed   \n",
       "3    27080      23      1          black                red      8-speed   \n",
       "4   121078      32      1      palladium         silk beige      7-speed   \n",
       "5    17582      32      1          black       auburn brown      7-speed   \n",
       "6    31736      26      1       platinum              black      7-speed   \n",
       "7    46644      25      1        granite         dark slate      6-speed   \n",
       "8   199532      29      1           gray               gray      6-speed   \n",
       "9    17342      32      1          black              black      1-speed   \n",
       "10  106334      31      1         silver        creme beige      6-speed   \n",
       "11  212000      23      1          white                tan      6-speed   \n",
       "12   11124      28      1          beach         brownstone      8-speed   \n",
       "13   30646      32      1         nebula                red      8-speed   \n",
       "14  159272      20      1           true  dark slate medium      6-speed   \n",
       "15   93043      32      1          black               gray      5-speed   \n",
       "16   36037      31      1          black              black      8-speed   \n",
       "17   40784      32      1          white              black      7-speed   \n",
       "18   23050      32      1           gray                tan      6-speed   \n",
       "19   35286      32      1         silver              black      7-speed   \n",
       "\n",
       "   drivetrain  star  review_no                          vendor   price  \n",
       "0         fwd     5         43                1st choice autos    3750  \n",
       "1         4wd     5         43                1st choice autos   17999  \n",
       "2         4wd     5        244           gilbert &  baugh ford   53900  \n",
       "3         rwd     5          6          carmax south boulevard   43998  \n",
       "4         rwd     5        939                     hendrickbmw   32991  \n",
       "5         4wd     5         19         global motorsports inc.   79895  \n",
       "6         rwd     5         18  hertz car  sales winston-salem   19998  \n",
       "7         fwd     5         90      hertz car  sales  orlando    11488  \n",
       "8         4wd     5         16                     sharpmotors    3950  \n",
       "9         4wd     5         96              bayshoreautomotive  104890  \n",
       "10        rwd     5         77                  rdu auto sales    9995  \n",
       "11        4wd     5          6            motortime auto sales   11995  \n",
       "12        rwd     4         86                  skylineimports   67900  \n",
       "13        rwd     5        117              motorcarslouisiana   56900  \n",
       "14        rwd     5         10                   n &  n  auto    10935  \n",
       "15        4wd     5          7              auto mart  of ohio    8995  \n",
       "16        4wd     5         15                   creeksideauto   33495  \n",
       "17        4wd     5         23               jumbo luxury cars   16990  \n",
       "18        rwd     5         23               jumbo luxury cars  105000  \n",
       "19        4wd     5         23               jumbo luxury cars   23990  "
      ]
     },
     "execution_count": 4,
     "metadata": {},
     "output_type": "execute_result"
    }
   ],
   "source": [
    "# read local car_info popular \n",
    "pw = pickle.load(open('./Flask/models/pw.plk','rb'))\n",
    "\n",
    "db = MySQLdb.connect(\n",
    "    \"127.0.0.1\",\n",
    "    \"root\",\n",
    "    pw,\n",
    "    \"used_car\",\n",
    "    charset='utf8',\n",
    ")\n",
    "\n",
    "SQL_QUERY = \"\"\"\n",
    "    SELECT *\n",
    "    FROM used_car;\n",
    "\"\"\"\n",
    "\n",
    "train = pd.read_sql(SQL_QUERY, db)\n",
    "train.head(20)"
   ]
  },
  {
   "cell_type": "code",
   "execution_count": 21,
   "metadata": {},
   "outputs": [],
   "source": [
    "pickle.dump(train, open(\"./Flask/models/database.plk\",\"wb\"))"
   ]
  },
  {
   "cell_type": "raw",
   "metadata": {},
   "source": [
    "brand_group = list(set(database[\"brand\"]))\n",
    "model_group = list(set(database[\"model\"]))"
   ]
  },
  {
   "cell_type": "code",
   "execution_count": 22,
   "metadata": {},
   "outputs": [],
   "source": [
    "brand_list = []\n",
    "for brand in Counter(train.brand).most_common(30):\n",
    "    brand_list.append(brand[0])"
   ]
  },
  {
   "cell_type": "code",
   "execution_count": 23,
   "metadata": {},
   "outputs": [],
   "source": [
    "idx_list = []\n",
    "idx = 0\n",
    "for i in train[\"brand\"]:\n",
    "    if i not in brand_list:\n",
    "        idx_list.append(idx)\n",
    "    idx += 1"
   ]
  },
  {
   "cell_type": "code",
   "execution_count": 24,
   "metadata": {},
   "outputs": [
    {
     "data": {
      "text/plain": [
       "(4771, 15)"
      ]
     },
     "execution_count": 24,
     "metadata": {},
     "output_type": "execute_result"
    }
   ],
   "source": [
    "train.shape"
   ]
  },
  {
   "cell_type": "code",
   "execution_count": 25,
   "metadata": {},
   "outputs": [
    {
     "ename": "ValueError",
     "evalue": "labels ['index'] not contained in axis",
     "output_type": "error",
     "traceback": [
      "\u001b[0;31m---------------------------------------------------------------------------\u001b[0m",
      "\u001b[0;31mValueError\u001b[0m                                Traceback (most recent call last)",
      "\u001b[0;32m<ipython-input-25-2e3ef5489b3e>\u001b[0m in \u001b[0;36m<module>\u001b[0;34m()\u001b[0m\n\u001b[1;32m      1\u001b[0m \u001b[0mtrain\u001b[0m \u001b[0;34m=\u001b[0m \u001b[0mtrain\u001b[0m\u001b[0;34m.\u001b[0m\u001b[0mdrop\u001b[0m\u001b[0;34m(\u001b[0m\u001b[0midx_list\u001b[0m\u001b[0;34m)\u001b[0m\u001b[0;34m\u001b[0m\u001b[0m\n\u001b[1;32m      2\u001b[0m \u001b[0mtrain\u001b[0m\u001b[0;34m.\u001b[0m\u001b[0mreset_index\u001b[0m\u001b[0;34m(\u001b[0m\u001b[0mdrop\u001b[0m\u001b[0;34m=\u001b[0m\u001b[0;32mTrue\u001b[0m\u001b[0;34m,\u001b[0m \u001b[0minplace\u001b[0m\u001b[0;34m=\u001b[0m\u001b[0;32mTrue\u001b[0m\u001b[0;34m)\u001b[0m\u001b[0;34m\u001b[0m\u001b[0m\n\u001b[0;32m----> 3\u001b[0;31m \u001b[0mtrain\u001b[0m \u001b[0;34m=\u001b[0m \u001b[0mtrain\u001b[0m\u001b[0;34m.\u001b[0m\u001b[0mdrop\u001b[0m\u001b[0;34m(\u001b[0m\u001b[0;34m\"index\"\u001b[0m\u001b[0;34m,\u001b[0m \u001b[0maxis\u001b[0m\u001b[0;34m=\u001b[0m\u001b[0;36m1\u001b[0m\u001b[0;34m)\u001b[0m\u001b[0;34m\u001b[0m\u001b[0m\n\u001b[0m",
      "\u001b[0;32m~/anaconda3/lib/python3.6/site-packages/pandas/core/generic.py\u001b[0m in \u001b[0;36mdrop\u001b[0;34m(self, labels, axis, level, inplace, errors)\u001b[0m\n\u001b[1;32m   2159\u001b[0m                 \u001b[0mnew_axis\u001b[0m \u001b[0;34m=\u001b[0m \u001b[0maxis\u001b[0m\u001b[0;34m.\u001b[0m\u001b[0mdrop\u001b[0m\u001b[0;34m(\u001b[0m\u001b[0mlabels\u001b[0m\u001b[0;34m,\u001b[0m \u001b[0mlevel\u001b[0m\u001b[0;34m=\u001b[0m\u001b[0mlevel\u001b[0m\u001b[0;34m,\u001b[0m \u001b[0merrors\u001b[0m\u001b[0;34m=\u001b[0m\u001b[0merrors\u001b[0m\u001b[0;34m)\u001b[0m\u001b[0;34m\u001b[0m\u001b[0m\n\u001b[1;32m   2160\u001b[0m             \u001b[0;32melse\u001b[0m\u001b[0;34m:\u001b[0m\u001b[0;34m\u001b[0m\u001b[0m\n\u001b[0;32m-> 2161\u001b[0;31m                 \u001b[0mnew_axis\u001b[0m \u001b[0;34m=\u001b[0m \u001b[0maxis\u001b[0m\u001b[0;34m.\u001b[0m\u001b[0mdrop\u001b[0m\u001b[0;34m(\u001b[0m\u001b[0mlabels\u001b[0m\u001b[0;34m,\u001b[0m \u001b[0merrors\u001b[0m\u001b[0;34m=\u001b[0m\u001b[0merrors\u001b[0m\u001b[0;34m)\u001b[0m\u001b[0;34m\u001b[0m\u001b[0m\n\u001b[0m\u001b[1;32m   2162\u001b[0m             \u001b[0mdropped\u001b[0m \u001b[0;34m=\u001b[0m \u001b[0mself\u001b[0m\u001b[0;34m.\u001b[0m\u001b[0mreindex\u001b[0m\u001b[0;34m(\u001b[0m\u001b[0;34m**\u001b[0m\u001b[0;34m{\u001b[0m\u001b[0maxis_name\u001b[0m\u001b[0;34m:\u001b[0m \u001b[0mnew_axis\u001b[0m\u001b[0;34m}\u001b[0m\u001b[0;34m)\u001b[0m\u001b[0;34m\u001b[0m\u001b[0m\n\u001b[1;32m   2163\u001b[0m             \u001b[0;32mtry\u001b[0m\u001b[0;34m:\u001b[0m\u001b[0;34m\u001b[0m\u001b[0m\n",
      "\u001b[0;32m~/anaconda3/lib/python3.6/site-packages/pandas/core/indexes/base.py\u001b[0m in \u001b[0;36mdrop\u001b[0;34m(self, labels, errors)\u001b[0m\n\u001b[1;32m   3622\u001b[0m             \u001b[0;32mif\u001b[0m \u001b[0merrors\u001b[0m \u001b[0;34m!=\u001b[0m \u001b[0;34m'ignore'\u001b[0m\u001b[0;34m:\u001b[0m\u001b[0;34m\u001b[0m\u001b[0m\n\u001b[1;32m   3623\u001b[0m                 raise ValueError('labels %s not contained in axis' %\n\u001b[0;32m-> 3624\u001b[0;31m                                  labels[mask])\n\u001b[0m\u001b[1;32m   3625\u001b[0m             \u001b[0mindexer\u001b[0m \u001b[0;34m=\u001b[0m \u001b[0mindexer\u001b[0m\u001b[0;34m[\u001b[0m\u001b[0;34m~\u001b[0m\u001b[0mmask\u001b[0m\u001b[0;34m]\u001b[0m\u001b[0;34m\u001b[0m\u001b[0m\n\u001b[1;32m   3626\u001b[0m         \u001b[0;32mreturn\u001b[0m \u001b[0mself\u001b[0m\u001b[0;34m.\u001b[0m\u001b[0mdelete\u001b[0m\u001b[0;34m(\u001b[0m\u001b[0mindexer\u001b[0m\u001b[0;34m)\u001b[0m\u001b[0;34m\u001b[0m\u001b[0m\n",
      "\u001b[0;31mValueError\u001b[0m: labels ['index'] not contained in axis"
     ]
    }
   ],
   "source": [
    "train = train.drop(idx_list)\n",
    "train.reset_index(drop=True, inplace=True)\n",
    "train = train.drop(\"index\", axis=1)"
   ]
  },
  {
   "cell_type": "markdown",
   "metadata": {},
   "source": [
    "Feature engineering"
   ]
  },
  {
   "cell_type": "code",
   "execution_count": 26,
   "metadata": {},
   "outputs": [],
   "source": [
    "categorical_features = ['brand', 'model']"
   ]
  },
  {
   "cell_type": "code",
   "execution_count": 27,
   "metadata": {},
   "outputs": [
    {
     "data": {
      "text/html": [
       "<div>\n",
       "<style>\n",
       "    .dataframe thead tr:only-child th {\n",
       "        text-align: right;\n",
       "    }\n",
       "\n",
       "    .dataframe thead th {\n",
       "        text-align: left;\n",
       "    }\n",
       "\n",
       "    .dataframe tbody tr th {\n",
       "        vertical-align: top;\n",
       "    }\n",
       "</style>\n",
       "<table border=\"1\" class=\"dataframe\">\n",
       "  <thead>\n",
       "    <tr style=\"text-align: right;\">\n",
       "      <th></th>\n",
       "      <th>brand_acura</th>\n",
       "      <th>brand_audi</th>\n",
       "      <th>brand_bmw</th>\n",
       "      <th>brand_buick</th>\n",
       "      <th>brand_cadillac</th>\n",
       "      <th>brand_chevrolet</th>\n",
       "      <th>brand_chrysler</th>\n",
       "      <th>brand_dodge</th>\n",
       "      <th>brand_ford</th>\n",
       "      <th>brand_gmc</th>\n",
       "      <th>...</th>\n",
       "      <th>model_xf</th>\n",
       "      <th>model_xj</th>\n",
       "      <th>model_xk</th>\n",
       "      <th>model_xt5</th>\n",
       "      <th>model_xterra</th>\n",
       "      <th>model_xts</th>\n",
       "      <th>model_xv</th>\n",
       "      <th>model_yaris</th>\n",
       "      <th>model_yukon</th>\n",
       "      <th>model_z4</th>\n",
       "    </tr>\n",
       "  </thead>\n",
       "  <tbody>\n",
       "    <tr>\n",
       "      <th>0</th>\n",
       "      <td>0</td>\n",
       "      <td>0</td>\n",
       "      <td>0</td>\n",
       "      <td>0</td>\n",
       "      <td>0</td>\n",
       "      <td>0</td>\n",
       "      <td>0</td>\n",
       "      <td>0</td>\n",
       "      <td>0</td>\n",
       "      <td>0</td>\n",
       "      <td>...</td>\n",
       "      <td>0</td>\n",
       "      <td>0</td>\n",
       "      <td>0</td>\n",
       "      <td>0</td>\n",
       "      <td>0</td>\n",
       "      <td>0</td>\n",
       "      <td>0</td>\n",
       "      <td>0</td>\n",
       "      <td>0</td>\n",
       "      <td>0</td>\n",
       "    </tr>\n",
       "    <tr>\n",
       "      <th>1</th>\n",
       "      <td>0</td>\n",
       "      <td>0</td>\n",
       "      <td>0</td>\n",
       "      <td>0</td>\n",
       "      <td>0</td>\n",
       "      <td>0</td>\n",
       "      <td>0</td>\n",
       "      <td>0</td>\n",
       "      <td>0</td>\n",
       "      <td>0</td>\n",
       "      <td>...</td>\n",
       "      <td>0</td>\n",
       "      <td>0</td>\n",
       "      <td>0</td>\n",
       "      <td>0</td>\n",
       "      <td>0</td>\n",
       "      <td>0</td>\n",
       "      <td>0</td>\n",
       "      <td>0</td>\n",
       "      <td>0</td>\n",
       "      <td>0</td>\n",
       "    </tr>\n",
       "    <tr>\n",
       "      <th>2</th>\n",
       "      <td>0</td>\n",
       "      <td>0</td>\n",
       "      <td>0</td>\n",
       "      <td>0</td>\n",
       "      <td>0</td>\n",
       "      <td>0</td>\n",
       "      <td>0</td>\n",
       "      <td>0</td>\n",
       "      <td>1</td>\n",
       "      <td>0</td>\n",
       "      <td>...</td>\n",
       "      <td>0</td>\n",
       "      <td>0</td>\n",
       "      <td>0</td>\n",
       "      <td>0</td>\n",
       "      <td>0</td>\n",
       "      <td>0</td>\n",
       "      <td>0</td>\n",
       "      <td>0</td>\n",
       "      <td>0</td>\n",
       "      <td>0</td>\n",
       "    </tr>\n",
       "    <tr>\n",
       "      <th>3</th>\n",
       "      <td>0</td>\n",
       "      <td>0</td>\n",
       "      <td>0</td>\n",
       "      <td>0</td>\n",
       "      <td>0</td>\n",
       "      <td>0</td>\n",
       "      <td>0</td>\n",
       "      <td>0</td>\n",
       "      <td>0</td>\n",
       "      <td>0</td>\n",
       "      <td>...</td>\n",
       "      <td>0</td>\n",
       "      <td>0</td>\n",
       "      <td>0</td>\n",
       "      <td>0</td>\n",
       "      <td>0</td>\n",
       "      <td>0</td>\n",
       "      <td>0</td>\n",
       "      <td>0</td>\n",
       "      <td>0</td>\n",
       "      <td>0</td>\n",
       "    </tr>\n",
       "    <tr>\n",
       "      <th>4</th>\n",
       "      <td>0</td>\n",
       "      <td>0</td>\n",
       "      <td>0</td>\n",
       "      <td>0</td>\n",
       "      <td>0</td>\n",
       "      <td>0</td>\n",
       "      <td>0</td>\n",
       "      <td>0</td>\n",
       "      <td>0</td>\n",
       "      <td>0</td>\n",
       "      <td>...</td>\n",
       "      <td>0</td>\n",
       "      <td>0</td>\n",
       "      <td>0</td>\n",
       "      <td>0</td>\n",
       "      <td>0</td>\n",
       "      <td>0</td>\n",
       "      <td>0</td>\n",
       "      <td>0</td>\n",
       "      <td>0</td>\n",
       "      <td>0</td>\n",
       "    </tr>\n",
       "  </tbody>\n",
       "</table>\n",
       "<p>5 rows × 433 columns</p>\n",
       "</div>"
      ],
      "text/plain": [
       "   brand_acura  brand_audi  brand_bmw  brand_buick  brand_cadillac  \\\n",
       "0            0           0          0            0               0   \n",
       "1            0           0          0            0               0   \n",
       "2            0           0          0            0               0   \n",
       "3            0           0          0            0               0   \n",
       "4            0           0          0            0               0   \n",
       "\n",
       "   brand_chevrolet  brand_chrysler  brand_dodge  brand_ford  brand_gmc  \\\n",
       "0                0               0            0           0          0   \n",
       "1                0               0            0           0          0   \n",
       "2                0               0            0           1          0   \n",
       "3                0               0            0           0          0   \n",
       "4                0               0            0           0          0   \n",
       "\n",
       "     ...     model_xf  model_xj  model_xk  model_xt5  model_xterra  model_xts  \\\n",
       "0    ...            0         0         0          0             0          0   \n",
       "1    ...            0         0         0          0             0          0   \n",
       "2    ...            0         0         0          0             0          0   \n",
       "3    ...            0         0         0          0             0          0   \n",
       "4    ...            0         0         0          0             0          0   \n",
       "\n",
       "   model_xv  model_yaris  model_yukon  model_z4  \n",
       "0         0            0            0         0  \n",
       "1         0            0            0         0  \n",
       "2         0            0            0         0  \n",
       "3         0            0            0         0  \n",
       "4         0            0            0         0  \n",
       "\n",
       "[5 rows x 433 columns]"
      ]
     },
     "execution_count": 27,
     "metadata": {},
     "output_type": "execute_result"
    }
   ],
   "source": [
    "dummy_cat = pd.get_dummies(train[categorical_features])\n",
    "dummy_cat.head()"
   ]
  },
  {
   "cell_type": "code",
   "execution_count": 28,
   "metadata": {},
   "outputs": [],
   "source": [
    "numerical_features = ['year', 'miles','price']"
   ]
  },
  {
   "cell_type": "code",
   "execution_count": 29,
   "metadata": {},
   "outputs": [
    {
     "data": {
      "text/html": [
       "<div>\n",
       "<style>\n",
       "    .dataframe thead tr:only-child th {\n",
       "        text-align: right;\n",
       "    }\n",
       "\n",
       "    .dataframe thead th {\n",
       "        text-align: left;\n",
       "    }\n",
       "\n",
       "    .dataframe tbody tr th {\n",
       "        vertical-align: top;\n",
       "    }\n",
       "</style>\n",
       "<table border=\"1\" class=\"dataframe\">\n",
       "  <thead>\n",
       "    <tr style=\"text-align: right;\">\n",
       "      <th></th>\n",
       "      <th>year</th>\n",
       "      <th>miles</th>\n",
       "      <th>price</th>\n",
       "    </tr>\n",
       "  </thead>\n",
       "  <tbody>\n",
       "    <tr>\n",
       "      <th>0</th>\n",
       "      <td>7.602900</td>\n",
       "      <td>11.680184</td>\n",
       "      <td>8.229778</td>\n",
       "    </tr>\n",
       "    <tr>\n",
       "      <th>1</th>\n",
       "      <td>7.609367</td>\n",
       "      <td>10.185881</td>\n",
       "      <td>9.798127</td>\n",
       "    </tr>\n",
       "    <tr>\n",
       "      <th>2</th>\n",
       "      <td>7.610358</td>\n",
       "      <td>7.754053</td>\n",
       "      <td>10.894904</td>\n",
       "    </tr>\n",
       "    <tr>\n",
       "      <th>3</th>\n",
       "      <td>7.608871</td>\n",
       "      <td>10.206588</td>\n",
       "      <td>10.691922</td>\n",
       "    </tr>\n",
       "    <tr>\n",
       "      <th>4</th>\n",
       "      <td>7.608374</td>\n",
       "      <td>11.704199</td>\n",
       "      <td>10.404020</td>\n",
       "    </tr>\n",
       "  </tbody>\n",
       "</table>\n",
       "</div>"
      ],
      "text/plain": [
       "       year      miles      price\n",
       "0  7.602900  11.680184   8.229778\n",
       "1  7.609367  10.185881   9.798127\n",
       "2  7.610358   7.754053  10.894904\n",
       "3  7.608871  10.206588  10.691922\n",
       "4  7.608374  11.704199  10.404020"
      ]
     },
     "execution_count": 29,
     "metadata": {},
     "output_type": "execute_result"
    }
   ],
   "source": [
    "normalize_num = np.log1p(train[numerical_features])\n",
    "normalize_num.head()"
   ]
  },
  {
   "cell_type": "code",
   "execution_count": 30,
   "metadata": {},
   "outputs": [],
   "source": [
    "# pre_train = pd.merge(normalize_num, dummy_cat) \n",
    "X_train_0 = normalize_num.join(dummy_cat)\n",
    "y_train = X_train_0[\"price\"]\n",
    "X_train = X_train_0.drop(\"price\", axis=1)"
   ]
  },
  {
   "cell_type": "code",
   "execution_count": 44,
   "metadata": {},
   "outputs": [],
   "source": [
    "from xgboost import XGBRegressor\n",
    "from sklearn.ensemble import RandomForestRegressor, ExtraTreesRegressor\n",
    "from sklearn.cross_validation import train_test_split\n",
    "from sklearn.model_selection import cross_val_score\n",
    "from sklearn.model_selection import KFold\n",
    "\n",
    "k_fold = KFold(n_splits=10, shuffle=True, random_state=2018)\n",
    "X_train1, X_test1, y_train1, y_test1 = train_test_split(X_train, y_train)"
   ]
  },
  {
   "cell_type": "code",
   "execution_count": 45,
   "metadata": {},
   "outputs": [],
   "source": [
    "ml = ExtraTreesRegressor(max_depth=4, n_estimators=1000)"
   ]
  },
  {
   "cell_type": "raw",
   "metadata": {},
   "source": [
    "ml = XGBRegressor(n_estimators=1000, learning_rate=0.05, verbose=False)"
   ]
  },
  {
   "cell_type": "code",
   "execution_count": 46,
   "metadata": {},
   "outputs": [
    {
     "name": "stdout",
     "output_type": "stream",
     "text": [
      "CPU times: user 168 ms, sys: 59 ms, total: 227 ms\n",
      "Wall time: 1min 1s\n",
      "Score = 0.48534\n"
     ]
    }
   ],
   "source": [
    "%time score = cross_val_score(ml, X_train, y_train, cv=k_fold, n_jobs=-1, scoring=\"r2\").mean()\n",
    "\n",
    "print(\"Score = {0:.5f}\".format(score))"
   ]
  },
  {
   "cell_type": "code",
   "execution_count": 42,
   "metadata": {},
   "outputs": [
    {
     "data": {
      "image/png": "[encoded data removed]",
      "text/plain": [
       "<matplotlib.figure.Figure at 0x1065ad358>"
      ]
     },
     "metadata": {
      "image/png": {
       "height": 349,
       "width": 708
      }
     },
     "output_type": "display_data"
    }
   ],
   "source": [
    "ml = ml.fit(X_train1, y_train1)\n",
    "y_pred = ml.predict(X_test1)\n",
    "\n",
    "plt.figure(figsize=(10, 5))\n",
    "plt.scatter(y_test1, y_pred, s=20)\n",
    "plt.title('Predicted vs. Actual')\n",
    "plt.xlabel('Actual Sale Price')\n",
    "plt.ylabel('Predicted Sale Price')\n",
    "\n",
    "plt.plot([min(y_test1), max(y_test1)], [min(y_test1), max(y_test1)])\n",
    "plt.tight_layout()"
   ]
  },
  {
   "cell_type": "code",
   "execution_count": 16,
   "metadata": {},
   "outputs": [],
   "source": [
    "pickle.dump(ml, open(\"./Flask/models/model.plk\",\"wb\"))"
   ]
  },
  {
   "cell_type": "code",
   "execution_count": 17,
   "metadata": {},
   "outputs": [],
   "source": [
    "actual_car_info = train[[\"brand\", \"model\",\"year\",\"miles\",\"price\"]]\n",
    "pickle.dump(actual_car_info, open(\"./Flask/models/actual_car_info.plk\",\"wb\"))"
   ]
  },
  {
   "cell_type": "code",
   "execution_count": 18,
   "metadata": {},
   "outputs": [
    {
     "name": "stdout",
     "output_type": "stream",
     "text": [
      "brand: kia\n",
      "model: optima\n",
      "year: 2015\n",
      "miles: 30000\n"
     ]
    }
   ],
   "source": [
    "brand = str(input(\"brand: \"))\n",
    "model = str(input(\"model: \"))\n",
    "year = int(input(\"year: \"))\n",
    "miles = int(input(\"miles: \"))"
   ]
  },
  {
   "cell_type": "code",
   "execution_count": 19,
   "metadata": {},
   "outputs": [],
   "source": [
    "target = pd.DataFrame(columns = [X_train1.columns])"
   ]
  },
  {
   "cell_type": "code",
   "execution_count": 20,
   "metadata": {},
   "outputs": [],
   "source": [
    "pickle.dump(X_train1.columns, open(\"./Flask/models/column.plk\",\"wb\"))"
   ]
  },
  {
   "cell_type": "code",
   "execution_count": 21,
   "metadata": {},
   "outputs": [
    {
     "data": {
      "text/plain": [
       "17"
      ]
     },
     "execution_count": 21,
     "metadata": {},
     "output_type": "execute_result"
    }
   ],
   "source": [
    "cdx = 0\n",
    "for col in X_train.columns:\n",
    "    if col == 'brand'+\"_\"+brand:\n",
    "        break;\n",
    "    cdx += 1\n",
    "cdx"
   ]
  },
  {
   "cell_type": "code",
   "execution_count": 22,
   "metadata": {},
   "outputs": [
    {
     "data": {
      "text/plain": [
       "302"
      ]
     },
     "execution_count": 22,
     "metadata": {},
     "output_type": "execute_result"
    }
   ],
   "source": [
    "sdx = 0\n",
    "for col in X_train.columns:\n",
    "    if col == 'model'+\"_\"+model:\n",
    "        break;\n",
    "    sdx += 1\n",
    "sdx"
   ]
  },
  {
   "cell_type": "code",
   "execution_count": 23,
   "metadata": {},
   "outputs": [],
   "source": [
    "target_list = np.zeros_like(X_train.loc[0])"
   ]
  },
  {
   "cell_type": "code",
   "execution_count": 24,
   "metadata": {},
   "outputs": [],
   "source": [
    "pickle.dump(target_list, open(\"./Flask/models/target_list.plk\",\"wb\"))"
   ]
  },
  {
   "cell_type": "code",
   "execution_count": 25,
   "metadata": {},
   "outputs": [],
   "source": [
    "target_list[cdx] = 1\n",
    "target_list[sdx] = 1\n",
    "target_list[0] = year\n",
    "target_list[1] = miles"
   ]
  },
  {
   "cell_type": "code",
   "execution_count": 26,
   "metadata": {
    "scrolled": true
   },
   "outputs": [],
   "source": [
    "for i in range(1):\n",
    "    target.loc[i] = target_list"
   ]
  },
  {
   "cell_type": "code",
   "execution_count": 27,
   "metadata": {},
   "outputs": [
    {
     "data": {
      "text/html": [
       "<div>\n",
       "<style>\n",
       "    .dataframe thead tr:only-child th {\n",
       "        text-align: right;\n",
       "    }\n",
       "\n",
       "    .dataframe thead th {\n",
       "        text-align: left;\n",
       "    }\n",
       "\n",
       "    .dataframe tbody tr th {\n",
       "        vertical-align: top;\n",
       "    }\n",
       "</style>\n",
       "<table border=\"1\" class=\"dataframe\">\n",
       "  <thead>\n",
       "    <tr style=\"text-align: right;\">\n",
       "      <th></th>\n",
       "      <th>year</th>\n",
       "      <th>miles</th>\n",
       "      <th>brand_acura</th>\n",
       "      <th>brand_audi</th>\n",
       "      <th>brand_bmw</th>\n",
       "      <th>brand_buick</th>\n",
       "      <th>brand_cadillac</th>\n",
       "      <th>brand_chevrolet</th>\n",
       "      <th>brand_chrysler</th>\n",
       "      <th>brand_dodge</th>\n",
       "      <th>...</th>\n",
       "      <th>model_xf</th>\n",
       "      <th>model_xj</th>\n",
       "      <th>model_xk</th>\n",
       "      <th>model_xt5</th>\n",
       "      <th>model_xterra</th>\n",
       "      <th>model_xts</th>\n",
       "      <th>model_xv</th>\n",
       "      <th>model_yaris</th>\n",
       "      <th>model_yukon</th>\n",
       "      <th>model_z4</th>\n",
       "    </tr>\n",
       "  </thead>\n",
       "  <tbody>\n",
       "    <tr>\n",
       "      <th>0</th>\n",
       "      <td>2015.0</td>\n",
       "      <td>30000.0</td>\n",
       "      <td>0.0</td>\n",
       "      <td>0.0</td>\n",
       "      <td>0.0</td>\n",
       "      <td>0.0</td>\n",
       "      <td>0.0</td>\n",
       "      <td>0.0</td>\n",
       "      <td>0.0</td>\n",
       "      <td>0.0</td>\n",
       "      <td>...</td>\n",
       "      <td>0.0</td>\n",
       "      <td>0.0</td>\n",
       "      <td>0.0</td>\n",
       "      <td>0.0</td>\n",
       "      <td>0.0</td>\n",
       "      <td>0.0</td>\n",
       "      <td>0.0</td>\n",
       "      <td>0.0</td>\n",
       "      <td>0.0</td>\n",
       "      <td>0.0</td>\n",
       "    </tr>\n",
       "  </tbody>\n",
       "</table>\n",
       "<p>1 rows × 435 columns</p>\n",
       "</div>"
      ],
      "text/plain": [
       "     year    miles  brand_acura  brand_audi  brand_bmw  brand_buick  \\\n",
       "0  2015.0  30000.0          0.0         0.0        0.0          0.0   \n",
       "\n",
       "   brand_cadillac  brand_chevrolet  brand_chrysler  brand_dodge    ...     \\\n",
       "0             0.0              0.0             0.0          0.0    ...      \n",
       "\n",
       "   model_xf  model_xj  model_xk  model_xt5  model_xterra  model_xts  model_xv  \\\n",
       "0       0.0       0.0       0.0        0.0           0.0        0.0       0.0   \n",
       "\n",
       "   model_yaris  model_yukon  model_z4  \n",
       "0          0.0          0.0       0.0  \n",
       "\n",
       "[1 rows x 435 columns]"
      ]
     },
     "execution_count": 27,
     "metadata": {},
     "output_type": "execute_result"
    }
   ],
   "source": [
    "target"
   ]
  },
  {
   "cell_type": "code",
   "execution_count": 28,
   "metadata": {},
   "outputs": [],
   "source": [
    "numerical_features = ['year', 'miles']\n",
    "target[numerical_features] = np.log1p(target[numerical_features])"
   ]
  },
  {
   "cell_type": "code",
   "execution_count": 29,
   "metadata": {},
   "outputs": [
    {
     "data": {
      "text/html": [
       "<div>\n",
       "<style>\n",
       "    .dataframe thead tr:only-child th {\n",
       "        text-align: right;\n",
       "    }\n",
       "\n",
       "    .dataframe thead th {\n",
       "        text-align: left;\n",
       "    }\n",
       "\n",
       "    .dataframe tbody tr th {\n",
       "        vertical-align: top;\n",
       "    }\n",
       "</style>\n",
       "<table border=\"1\" class=\"dataframe\">\n",
       "  <thead>\n",
       "    <tr style=\"text-align: right;\">\n",
       "      <th></th>\n",
       "      <th>year</th>\n",
       "      <th>miles</th>\n",
       "      <th>brand_acura</th>\n",
       "      <th>brand_audi</th>\n",
       "      <th>brand_bmw</th>\n",
       "      <th>brand_buick</th>\n",
       "      <th>brand_cadillac</th>\n",
       "      <th>brand_chevrolet</th>\n",
       "      <th>brand_chrysler</th>\n",
       "      <th>brand_dodge</th>\n",
       "      <th>...</th>\n",
       "      <th>model_xf</th>\n",
       "      <th>model_xj</th>\n",
       "      <th>model_xk</th>\n",
       "      <th>model_xt5</th>\n",
       "      <th>model_xterra</th>\n",
       "      <th>model_xts</th>\n",
       "      <th>model_xv</th>\n",
       "      <th>model_yaris</th>\n",
       "      <th>model_yukon</th>\n",
       "      <th>model_z4</th>\n",
       "    </tr>\n",
       "  </thead>\n",
       "  <tbody>\n",
       "    <tr>\n",
       "      <th>0</th>\n",
       "      <td>7.608871</td>\n",
       "      <td>10.308986</td>\n",
       "      <td>0.0</td>\n",
       "      <td>0.0</td>\n",
       "      <td>0.0</td>\n",
       "      <td>0.0</td>\n",
       "      <td>0.0</td>\n",
       "      <td>0.0</td>\n",
       "      <td>0.0</td>\n",
       "      <td>0.0</td>\n",
       "      <td>...</td>\n",
       "      <td>0.0</td>\n",
       "      <td>0.0</td>\n",
       "      <td>0.0</td>\n",
       "      <td>0.0</td>\n",
       "      <td>0.0</td>\n",
       "      <td>0.0</td>\n",
       "      <td>0.0</td>\n",
       "      <td>0.0</td>\n",
       "      <td>0.0</td>\n",
       "      <td>0.0</td>\n",
       "    </tr>\n",
       "  </tbody>\n",
       "</table>\n",
       "<p>1 rows × 435 columns</p>\n",
       "</div>"
      ],
      "text/plain": [
       "       year      miles  brand_acura  brand_audi  brand_bmw  brand_buick  \\\n",
       "0  7.608871  10.308986          0.0         0.0        0.0          0.0   \n",
       "\n",
       "   brand_cadillac  brand_chevrolet  brand_chrysler  brand_dodge    ...     \\\n",
       "0             0.0              0.0             0.0          0.0    ...      \n",
       "\n",
       "   model_xf  model_xj  model_xk  model_xt5  model_xterra  model_xts  model_xv  \\\n",
       "0       0.0       0.0       0.0        0.0           0.0        0.0       0.0   \n",
       "\n",
       "   model_yaris  model_yukon  model_z4  \n",
       "0          0.0          0.0       0.0  \n",
       "\n",
       "[1 rows x 435 columns]"
      ]
     },
     "execution_count": 29,
     "metadata": {},
     "output_type": "execute_result"
    }
   ],
   "source": [
    "target"
   ]
  },
  {
   "cell_type": "code",
   "execution_count": 30,
   "metadata": {},
   "outputs": [],
   "source": [
    "price_log = ml.predict(target)"
   ]
  },
  {
   "cell_type": "code",
   "execution_count": 31,
   "metadata": {},
   "outputs": [
    {
     "data": {
      "text/plain": [
       "array([ 9.67367268], dtype=float32)"
      ]
     },
     "execution_count": 31,
     "metadata": {},
     "output_type": "execute_result"
    }
   ],
   "source": [
    "price_log"
   ]
  },
  {
   "cell_type": "code",
   "execution_count": 32,
   "metadata": {},
   "outputs": [
    {
     "name": "stdout",
     "output_type": "stream",
     "text": [
      "Price: 15893\n"
     ]
    }
   ],
   "source": [
    "price = np.exp(price_log)\n",
    "print(\"Price:\", int(price))"
   ]
  },
  {
   "cell_type": "code",
   "execution_count": 33,
   "metadata": {},
   "outputs": [
    {
     "data": {
      "text/html": [
       "<div>\n",
       "<style>\n",
       "    .dataframe thead tr:only-child th {\n",
       "        text-align: right;\n",
       "    }\n",
       "\n",
       "    .dataframe thead th {\n",
       "        text-align: left;\n",
       "    }\n",
       "\n",
       "    .dataframe tbody tr th {\n",
       "        vertical-align: top;\n",
       "    }\n",
       "</style>\n",
       "<table border=\"1\" class=\"dataframe\">\n",
       "  <thead>\n",
       "    <tr style=\"text-align: right;\">\n",
       "      <th></th>\n",
       "      <th>year</th>\n",
       "      <th>price</th>\n",
       "    </tr>\n",
       "  </thead>\n",
       "  <tbody>\n",
       "    <tr>\n",
       "      <th>0</th>\n",
       "      <td>2011</td>\n",
       "      <td>9953</td>\n",
       "    </tr>\n",
       "    <tr>\n",
       "      <th>1</th>\n",
       "      <td>2012</td>\n",
       "      <td>9856</td>\n",
       "    </tr>\n",
       "    <tr>\n",
       "      <th>2</th>\n",
       "      <td>2013</td>\n",
       "      <td>11285</td>\n",
       "    </tr>\n",
       "    <tr>\n",
       "      <th>3</th>\n",
       "      <td>2014</td>\n",
       "      <td>12945</td>\n",
       "    </tr>\n",
       "    <tr>\n",
       "      <th>4</th>\n",
       "      <td>2015</td>\n",
       "      <td>14393</td>\n",
       "    </tr>\n",
       "    <tr>\n",
       "      <th>5</th>\n",
       "      <td>2016</td>\n",
       "      <td>14925</td>\n",
       "    </tr>\n",
       "    <tr>\n",
       "      <th>6</th>\n",
       "      <td>2017</td>\n",
       "      <td>18514</td>\n",
       "    </tr>\n",
       "  </tbody>\n",
       "</table>\n",
       "</div>"
      ],
      "text/plain": [
       "   year  price\n",
       "0  2011   9953\n",
       "1  2012   9856\n",
       "2  2013  11285\n",
       "3  2014  12945\n",
       "4  2015  14393\n",
       "5  2016  14925\n",
       "6  2017  18514"
      ]
     },
     "execution_count": 33,
     "metadata": {},
     "output_type": "execute_result"
    }
   ],
   "source": [
    "same_model = actual_car_info[actual_car_info[\"model\"]==model] \n",
    "year_price = same_model[[\"year\", \"price\"]]\n",
    "year_price_list = year_price.groupby(\"year\").agg({'price':np.mean}).astype('int')\n",
    "year_price_list = year_price_list.reset_index()\n",
    "year_price_list"
   ]
  },
  {
   "cell_type": "code",
   "execution_count": 34,
   "metadata": {},
   "outputs": [],
   "source": [
    "year_price_list[\"year\"] = year_price_list[\"year\"].apply(lambda x: str(x) )"
   ]
  },
  {
   "cell_type": "code",
   "execution_count": 35,
   "metadata": {},
   "outputs": [],
   "source": [
    "year_price_list[\"price\"] = year_price_list[\"price\"].apply(lambda x: str(x) )"
   ]
  },
  {
   "cell_type": "code",
   "execution_count": 36,
   "metadata": {},
   "outputs": [
    {
     "data": {
      "text/plain": [
       "['9953', '9856', '11285', '12945', '14393', '14925', '18514']"
      ]
     },
     "execution_count": 36,
     "metadata": {},
     "output_type": "execute_result"
    }
   ],
   "source": [
    "list(year_price_list[\"price\"])"
   ]
  },
  {
   "cell_type": "code",
   "execution_count": 72,
   "metadata": {},
   "outputs": [
    {
     "ename": "TypeError",
     "evalue": "You have to supply one of 'by' and 'level'",
     "output_type": "error",
     "traceback": [
      "\u001b[0;31m---------------------------------------------------------------------------\u001b[0m",
      "\u001b[0;31mTypeError\u001b[0m                                 Traceback (most recent call last)",
      "\u001b[0;32m<ipython-input-72-8c1fa7b830a6>\u001b[0m in \u001b[0;36m<module>\u001b[0;34m()\u001b[0m\n\u001b[0;32m----> 1\u001b[0;31m \u001b[0msame_brand\u001b[0m \u001b[0;34m=\u001b[0m \u001b[0mactual_car_info\u001b[0m\u001b[0;34m[\u001b[0m\u001b[0;34m\"brand\"\u001b[0m\u001b[0;34m]\u001b[0m\u001b[0;34m.\u001b[0m\u001b[0mgroupby\u001b[0m\u001b[0;34m(\u001b[0m\u001b[0;34m)\u001b[0m\u001b[0;34m\u001b[0m\u001b[0m\n\u001b[0m\u001b[1;32m      2\u001b[0m \u001b[0msame_brand\u001b[0m\u001b[0;34m\u001b[0m\u001b[0m\n\u001b[1;32m      3\u001b[0m \u001b[0;31m# model_list = list(set(same_brand[\"model\"]))\u001b[0m\u001b[0;34m\u001b[0m\u001b[0;34m\u001b[0m\u001b[0m\n\u001b[1;32m      4\u001b[0m \u001b[0;31m# model_list.sort()\u001b[0m\u001b[0;34m\u001b[0m\u001b[0;34m\u001b[0m\u001b[0m\n\u001b[1;32m      5\u001b[0m \u001b[0;31m# brand_model = same_brand[[\"brand\", \"model\"]]\u001b[0m\u001b[0;34m\u001b[0m\u001b[0;34m\u001b[0m\u001b[0m\n",
      "\u001b[0;32m~/anaconda3/lib/python3.6/site-packages/pandas/core/generic.py\u001b[0m in \u001b[0;36mgroupby\u001b[0;34m(self, by, axis, level, as_index, sort, group_keys, squeeze, **kwargs)\u001b[0m\n\u001b[1;32m   4410\u001b[0m \u001b[0;34m\u001b[0m\u001b[0m\n\u001b[1;32m   4411\u001b[0m         \u001b[0;32mif\u001b[0m \u001b[0mlevel\u001b[0m \u001b[0;32mis\u001b[0m \u001b[0;32mNone\u001b[0m \u001b[0;32mand\u001b[0m \u001b[0mby\u001b[0m \u001b[0;32mis\u001b[0m \u001b[0;32mNone\u001b[0m\u001b[0;34m:\u001b[0m\u001b[0;34m\u001b[0m\u001b[0m\n\u001b[0;32m-> 4412\u001b[0;31m             \u001b[0;32mraise\u001b[0m \u001b[0mTypeError\u001b[0m\u001b[0;34m(\u001b[0m\u001b[0;34m\"You have to supply one of 'by' and 'level'\"\u001b[0m\u001b[0;34m)\u001b[0m\u001b[0;34m\u001b[0m\u001b[0m\n\u001b[0m\u001b[1;32m   4413\u001b[0m         \u001b[0maxis\u001b[0m \u001b[0;34m=\u001b[0m \u001b[0mself\u001b[0m\u001b[0;34m.\u001b[0m\u001b[0m_get_axis_number\u001b[0m\u001b[0;34m(\u001b[0m\u001b[0maxis\u001b[0m\u001b[0;34m)\u001b[0m\u001b[0;34m\u001b[0m\u001b[0m\n\u001b[1;32m   4414\u001b[0m         return groupby(self, by=by, axis=axis, level=level, as_index=as_index,\n",
      "\u001b[0;31mTypeError\u001b[0m: You have to supply one of 'by' and 'level'"
     ]
    }
   ],
   "source": [
    "same_brand = actual_car_info[\"brand\"].groupby()\n",
    "same_brand\n",
    "# model_list = list(set(same_brand[\"model\"]))\n",
    "# model_list.sort()\n",
    "# brand_model = same_brand[[\"brand\", \"model\"]]\n",
    "# brand_model_list = brand_model.groupby(\"brand\").get_group()\n",
    "# # brand_model_list = brand_model_list.reset_index()\n",
    "# brand_model_list\n"
   ]
  },
  {
   "cell_type": "code",
   "execution_count": 71,
   "metadata": {},
   "outputs": [
    {
     "data": {
      "text/plain": [
       "['amanti',\n",
       " 'cadenza',\n",
       " 'forte',\n",
       " 'niro',\n",
       " 'optima',\n",
       " 'rio',\n",
       " 'sedona',\n",
       " 'sorento',\n",
       " 'soul',\n",
       " 'sportage',\n",
       " 'stinger']"
      ]
     },
     "execution_count": 71,
     "metadata": {},
     "output_type": "execute_result"
    }
   ],
   "source": [
    "model_list"
   ]
  },
  {
   "cell_type": "code",
   "execution_count": 70,
   "metadata": {},
   "outputs": [],
   "source": [
    "model_list.sort()"
   ]
  },
  {
   "cell_type": "code",
   "execution_count": 66,
   "metadata": {},
   "outputs": [
    {
     "name": "stdout",
     "output_type": "stream",
     "text": [
      "None\n"
     ]
    }
   ],
   "source": [
    "print(a)"
   ]
  },
  {
   "cell_type": "code",
   "execution_count": null,
   "metadata": {},
   "outputs": [],
   "source": []
  }
 ],
 "metadata": {
  "kernelspec": {
   "display_name": "Python 3",
   "language": "python",
   "name": "python3"
  },
  "language_info": {
   "codemirror_mode": {
    "name": "ipython",
    "version": 3
   },
   "file_extension": ".py",
   "mimetype": "text/x-python",
   "name": "python",
   "nbconvert_exporter": "python",
   "pygments_lexer": "ipython3",
   "version": "3.6.3"
  }
 },
 "nbformat": 4,
 "nbformat_minor": 2
}
