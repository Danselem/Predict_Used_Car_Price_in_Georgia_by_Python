{
 "cells": [
  {
   "cell_type": "code",
   "execution_count": null,
   "metadata": {},
   "outputs": [],
   "source": [
    "from selenium import webdriver\n",
    "import pandas as pd\n",
    "import re"
   ]
  },
  {
   "cell_type": "code",
   "execution_count": null,
   "metadata": {},
   "outputs": [],
   "source": [
    "first_page = 1\n",
    "last_page = 2"
   ]
  },
  {
   "cell_type": "code",
   "execution_count": null,
   "metadata": {},
   "outputs": [],
   "source": [
    "df = pd.DataFrame(columns = ['Year', 'Model','Mile','Exterior Color' ,'Interior_Color','Transmission','Drivetrain','Price','Price_cont'])"
   ]
  },
  {
   "cell_type": "code",
   "execution_count": null,
   "metadata": {
    "scrolled": false
   },
   "outputs": [],
   "source": [
    "for page in (first_page, last_page+1):\n",
    "\n",
    "    driver.get('https://www.cars.com/for-sale/searchresults.action/?page='+str(page)+'&perPage=20&rd=50&searchSource=PAGINATION&showMore=true&sort=relevance&stkTypId=28881&zc=30265')\n",
    "    main_content = driver.find_element_by_css_selector('#srp-listing-rows-container')\n",
    "    class_content = driver.find_elements_by_css_selector('.listing-row__details')\n",
    "\n",
    "    for i in range(len(class_content)):\n",
    "    \n",
    "        Text = class_content[i].find_element_by_css_selector('h2').text  \n",
    "    \n",
    "        Model = class_content[i].find_element_by_css_selector('h2').text\n",
    "        Model = Model.split(\" \")\n",
    "        Model = Model[1:3]\n",
    "        Model = \" \".join(Model)\n",
    "\n",
    "\n",
    "        Price = class_content[i].find_element_by_css_selector('.listing-row__pricing span:not(.listing-row__old-price)').text\n",
    "        Price = re.findall('[0-9]{1,8}', Price)\n",
    "        Price = \"\".join(Price)\n",
    "\n",
    "        Price_cont = class_content[i].find_element_by_css_selector('.listing-row__pricing').text\n",
    "\n",
    "        Mile = class_content[i].find_element_by_css_selector('.listing-row__pricing > span.listing-row__pricing-meta > span.listing-row__mileage').text\n",
    "        Mile = re.findall('[0-9]{1,8}', Mile)\n",
    "        Mile = \"\".join(Mile)\n",
    "\n",
    "        Year = re.match('[0-9]{1,4}', Text).group()\n",
    "\n",
    "        Exterior_Color = class_content[i].find_element_by_css_selector('a > div.listing-row__details-inner > ul > li:nth-child(1)').text\n",
    "        Exterior_Color = Exterior_Color.split(':')[1]\n",
    "\n",
    "        Interior_Color = class_content[i].find_element_by_css_selector('a > div.listing-row__details-inner > ul > li:nth-child(2)').text\n",
    "        Interior_Color = Interior_Color.split(':')[1]\n",
    "\n",
    "        Transmission = class_content[i].find_element_by_css_selector('a > div.listing-row__details-inner > ul > li:nth-child(3)').text\n",
    "        Transmission = Transmission.split(':')[1]\n",
    "\n",
    "        Drivetrain = class_content[i].find_element_by_css_selector('a > div.listing-row__details-inner > ul > li:nth-child(4)').text\n",
    "        Drivetrain = Drivetrain.split(':')[1]\n",
    "        Drivetrain = Drivetrain.split(' ')[1]\n",
    "        \n",
    "        \n",
    "\n",
    "        data = {\n",
    "                'Year': Year,\n",
    "                'Model': Model,\n",
    "                'Mile' : Mile,\n",
    "                'Exterior Color': Exterior_Color,\n",
    "                'Interior_Color': Interior_Color,\n",
    "                'Transmission': Transmission,\n",
    "                'Drivetrain' : Drivetrain,\n",
    "                'Price': Price,\n",
    "                'Price_cont' : Price_cont\n",
    "        }\n",
    "\n",
    "\n",
    "        df.loc[len(df)] = data\n",
    "\n",
    "        driver.close\n",
    "\n"
   ]
  },
  {
   "cell_type": "code",
   "execution_count": null,
   "metadata": {},
   "outputs": [],
   "source": [
    "#listing-727952210 > div.listing-row__dealer-info > div.dealer-rating-stars > svg:nth-child(5) > use"
   ]
  },
  {
   "cell_type": "code",
   "execution_count": null,
   "metadata": {},
   "outputs": [],
   "source": [
    "#listings"
   ]
  },
  {
   "cell_type": "code",
   "execution_count": null,
   "metadata": {},
   "outputs": [],
   "source": [
    "review = driver.find_element_by_css_selector('#listing-730260395 > div.listing-row__dealer-info > div.dealer-rating-stars > svg.icon-image.half > use ').text\n",
    "review"
   ]
  },
  {
   "cell_type": "code",
   "execution_count": null,
   "metadata": {},
   "outputs": [],
   "source": [
    "review = driver.find_element_by_css_selector('div.listings-column > div.shop-srp-listings > div.listings--list-view > div > div.shop-srp-listings__listing > div.listing-row__dealer-info > div.dealer-rating-stars ').text\n",
    "review"
   ]
  },
  {
   "cell_type": "code",
   "execution_count": null,
   "metadata": {
    "scrolled": false
   },
   "outputs": [],
   "source": [
    "df"
   ]
  },
  {
   "cell_type": "code",
   "execution_count": null,
   "metadata": {},
   "outputs": [],
   "source": [
    "Price_cont"
   ]
  },
  {
   "cell_type": "code",
   "execution_count": null,
   "metadata": {},
   "outputs": [],
   "source": []
  }
 ],
 "metadata": {
  "kernelspec": {
   "display_name": "Python 3",
   "language": "python",
   "name": "python3"
  },
  "language_info": {
   "codemirror_mode": {
    "name": "ipython",
    "version": 3
   },
   "file_extension": ".py",
   "mimetype": "text/x-python",
   "name": "python",
   "nbconvert_exporter": "python",
   "pygments_lexer": "ipython3",
   "version": "3.6.3"
  }
 },
 "nbformat": 4,
 "nbformat_minor": 2
}
