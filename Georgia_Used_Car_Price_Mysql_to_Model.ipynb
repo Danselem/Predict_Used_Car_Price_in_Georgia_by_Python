{
 "cells": [
  {
   "cell_type": "code",
   "execution_count": 1,
   "metadata": {},
   "outputs": [],
   "source": [
    "import numpy as np\n",
    "import matplotlib.pyplot as plt\n",
    "import MySQLdb, pickle\n",
    "import pandas as pd\n",
    "from sqlalchemy import create_engine\n",
    "from collections import Counter"
   ]
  },
  {
   "cell_type": "code",
   "execution_count": 2,
   "metadata": {},
   "outputs": [
    {
     "data": {
      "text/html": [
       "<div>\n",
       "<style scoped>\n",
       "    .dataframe tbody tr th:only-of-type {\n",
       "        vertical-align: middle;\n",
       "    }\n",
       "\n",
       "    .dataframe tbody tr th {\n",
       "        vertical-align: top;\n",
       "    }\n",
       "\n",
       "    .dataframe thead th {\n",
       "        text-align: right;\n",
       "    }\n",
       "</style>\n",
       "<table border=\"1\" class=\"dataframe\">\n",
       "  <thead>\n",
       "    <tr style=\"text-align: right;\">\n",
       "      <th></th>\n",
       "      <th>index</th>\n",
       "      <th>year</th>\n",
       "      <th>title</th>\n",
       "      <th>brand</th>\n",
       "      <th>model</th>\n",
       "      <th>miles</th>\n",
       "      <th>exterior_color</th>\n",
       "      <th>interior_color</th>\n",
       "      <th>transmission</th>\n",
       "      <th>drivetrain</th>\n",
       "      <th>star</th>\n",
       "      <th>review_no</th>\n",
       "      <th>price</th>\n",
       "    </tr>\n",
       "  </thead>\n",
       "  <tbody>\n",
       "    <tr>\n",
       "      <th>0</th>\n",
       "      <td>0</td>\n",
       "      <td>2018</td>\n",
       "      <td>kia stinger gt2</td>\n",
       "      <td>kia</td>\n",
       "      <td>stinger</td>\n",
       "      <td>21464</td>\n",
       "      <td>white</td>\n",
       "      <td>black</td>\n",
       "      <td>automatic</td>\n",
       "      <td>rwd</td>\n",
       "      <td>4</td>\n",
       "      <td>48</td>\n",
       "      <td>26995</td>\n",
       "    </tr>\n",
       "    <tr>\n",
       "      <th>1</th>\n",
       "      <td>1</td>\n",
       "      <td>2019</td>\n",
       "      <td>lamborghini urus base</td>\n",
       "      <td>lamborghini</td>\n",
       "      <td>urus</td>\n",
       "      <td>9655</td>\n",
       "      <td>gray</td>\n",
       "      <td>black</td>\n",
       "      <td>automatic</td>\n",
       "      <td>awd</td>\n",
       "      <td>5</td>\n",
       "      <td>9</td>\n",
       "      <td>232500</td>\n",
       "    </tr>\n",
       "    <tr>\n",
       "      <th>2</th>\n",
       "      <td>2</td>\n",
       "      <td>2016</td>\n",
       "      <td>mercedes-benz cla 250</td>\n",
       "      <td>mercedes-benz</td>\n",
       "      <td>cla</td>\n",
       "      <td>10381</td>\n",
       "      <td>white</td>\n",
       "      <td>black</td>\n",
       "      <td>automatic</td>\n",
       "      <td>fwd</td>\n",
       "      <td>4</td>\n",
       "      <td>279</td>\n",
       "      <td>17995</td>\n",
       "    </tr>\n",
       "    <tr>\n",
       "      <th>3</th>\n",
       "      <td>3</td>\n",
       "      <td>2007</td>\n",
       "      <td>lincoln town car signature limited</td>\n",
       "      <td>lincoln</td>\n",
       "      <td>town</td>\n",
       "      <td>39166</td>\n",
       "      <td>white</td>\n",
       "      <td>beige</td>\n",
       "      <td>automatic</td>\n",
       "      <td>rwd</td>\n",
       "      <td>4</td>\n",
       "      <td>313</td>\n",
       "      <td>9974</td>\n",
       "    </tr>\n",
       "    <tr>\n",
       "      <th>4</th>\n",
       "      <td>4</td>\n",
       "      <td>2009</td>\n",
       "      <td>ford escape hybrid</td>\n",
       "      <td>ford</td>\n",
       "      <td>escape</td>\n",
       "      <td>29281</td>\n",
       "      <td>black</td>\n",
       "      <td>gray</td>\n",
       "      <td>cvt</td>\n",
       "      <td>fwd</td>\n",
       "      <td>5</td>\n",
       "      <td>20</td>\n",
       "      <td>9500</td>\n",
       "    </tr>\n",
       "  </tbody>\n",
       "</table>\n",
       "</div>"
      ],
      "text/plain": [
       "   index  year                               title          brand    model  \\\n",
       "0      0  2018                     kia stinger gt2            kia  stinger   \n",
       "1      1  2019               lamborghini urus base    lamborghini     urus   \n",
       "2      2  2016               mercedes-benz cla 250  mercedes-benz      cla   \n",
       "3      3  2007  lincoln town car signature limited        lincoln     town   \n",
       "4      4  2009                  ford escape hybrid           ford   escape   \n",
       "\n",
       "   miles exterior_color interior_color transmission drivetrain  star  \\\n",
       "0  21464          white          black   automatic        rwd      4   \n",
       "1   9655           gray          black   automatic        awd      5   \n",
       "2  10381          white          black   automatic        fwd      4   \n",
       "3  39166          white          beige   automatic        rwd      4   \n",
       "4  29281          black           gray         cvt        fwd      5   \n",
       "\n",
       "   review_no   price  \n",
       "0         48   26995  \n",
       "1          9  232500  \n",
       "2        279   17995  \n",
       "3        313    9974  \n",
       "4         20    9500  "
      ]
     },
     "execution_count": 2,
     "metadata": {},
     "output_type": "execute_result"
    }
   ],
   "source": [
    "# Read car_info from MySQL at Amazon Web Service Cloud \n",
    "pw = pickle.load(open('./Flask/models/pw1.plk','rb'))\n",
    "\n",
    "db = MySQLdb.connect(\n",
    "    \"ec2-54-172-111-209.compute-1.amazonaws.com\",\n",
    "    \"root\",\n",
    "    pw,\n",
    "    \"car\",\n",
    "    charset='utf8',\n",
    ")\n",
    "\n",
    "# SQL Query\n",
    "SQL_QUERY = \"\"\"\n",
    "    SELECT *\n",
    "    FROM car;\n",
    "\"\"\"\n",
    "\n",
    "# Bring car information from MySQL into dataframe\n",
    "train = pd.read_sql(SQL_QUERY, db)\n",
    "train.head()"
   ]
  },
  {
   "cell_type": "code",
   "execution_count": 5,
   "metadata": {},
   "outputs": [],
   "source": [
    "# Saving data to the database\n",
    "pickle.dump(train, open(\"./Flask/models/database.plk\",\"wb\"))"
   ]
  },
  {
   "cell_type": "code",
   "execution_count": 6,
   "metadata": {},
   "outputs": [],
   "source": [
    "# Top 50 car brands\n",
    "brand_list = []\n",
    "for brand in Counter(train.brand).most_common(50):\n",
    "    brand_list.append(brand[0])"
   ]
  },
  {
   "cell_type": "code",
   "execution_count": 7,
   "metadata": {},
   "outputs": [],
   "source": [
    "# Check the index of data not included in the top 50 car brands\n",
    "idx_list = []\n",
    "idx = 0\n",
    "for i in train[\"brand\"]:\n",
    "    if i not in brand_list:\n",
    "        idx_list.append(idx)\n",
    "    idx += 1"
   ]
  },
  {
   "cell_type": "code",
   "execution_count": 8,
   "metadata": {},
   "outputs": [],
   "source": [
    "# Only the top 50 car brands are filtered\n",
    "train = train.drop(idx_list)\n",
    "train.reset_index(drop=True, inplace=True)\n",
    "train = train.drop(\"index\", axis=1)"
   ]
  },
  {
   "cell_type": "markdown",
   "metadata": {},
   "source": [
    "### Feature engineering"
   ]
  },
  {
   "cell_type": "code",
   "execution_count": 9,
   "metadata": {},
   "outputs": [],
   "source": [
    "# Select models and brands as category variables\n",
    "categorical_features = ['brand', 'model']"
   ]
  },
  {
   "cell_type": "code",
   "execution_count": 10,
   "metadata": {},
   "outputs": [
    {
     "data": {
      "text/html": [
       "<div>\n",
       "<style scoped>\n",
       "    .dataframe tbody tr th:only-of-type {\n",
       "        vertical-align: middle;\n",
       "    }\n",
       "\n",
       "    .dataframe tbody tr th {\n",
       "        vertical-align: top;\n",
       "    }\n",
       "\n",
       "    .dataframe thead th {\n",
       "        text-align: right;\n",
       "    }\n",
       "</style>\n",
       "<table border=\"1\" class=\"dataframe\">\n",
       "  <thead>\n",
       "    <tr style=\"text-align: right;\">\n",
       "      <th></th>\n",
       "      <th>brand_acura</th>\n",
       "      <th>brand_alfa</th>\n",
       "      <th>brand_aston</th>\n",
       "      <th>brand_audi</th>\n",
       "      <th>brand_bentley</th>\n",
       "      <th>brand_bmw</th>\n",
       "      <th>brand_buick</th>\n",
       "      <th>brand_cadillac</th>\n",
       "      <th>brand_chevrolet</th>\n",
       "      <th>brand_chrysler</th>\n",
       "      <th>...</th>\n",
       "      <th>model_xt6</th>\n",
       "      <th>model_xterra</th>\n",
       "      <th>model_xts</th>\n",
       "      <th>model_xv</th>\n",
       "      <th>model_yaris</th>\n",
       "      <th>model_yukon</th>\n",
       "      <th>model_z3</th>\n",
       "      <th>model_z4</th>\n",
       "      <th>model_zdx</th>\n",
       "      <th>model_zephyr</th>\n",
       "    </tr>\n",
       "  </thead>\n",
       "  <tbody>\n",
       "    <tr>\n",
       "      <th>0</th>\n",
       "      <td>0</td>\n",
       "      <td>0</td>\n",
       "      <td>0</td>\n",
       "      <td>0</td>\n",
       "      <td>0</td>\n",
       "      <td>0</td>\n",
       "      <td>0</td>\n",
       "      <td>0</td>\n",
       "      <td>0</td>\n",
       "      <td>0</td>\n",
       "      <td>...</td>\n",
       "      <td>0</td>\n",
       "      <td>0</td>\n",
       "      <td>0</td>\n",
       "      <td>0</td>\n",
       "      <td>0</td>\n",
       "      <td>0</td>\n",
       "      <td>0</td>\n",
       "      <td>0</td>\n",
       "      <td>0</td>\n",
       "      <td>0</td>\n",
       "    </tr>\n",
       "    <tr>\n",
       "      <th>1</th>\n",
       "      <td>0</td>\n",
       "      <td>0</td>\n",
       "      <td>0</td>\n",
       "      <td>0</td>\n",
       "      <td>0</td>\n",
       "      <td>0</td>\n",
       "      <td>0</td>\n",
       "      <td>0</td>\n",
       "      <td>0</td>\n",
       "      <td>0</td>\n",
       "      <td>...</td>\n",
       "      <td>0</td>\n",
       "      <td>0</td>\n",
       "      <td>0</td>\n",
       "      <td>0</td>\n",
       "      <td>0</td>\n",
       "      <td>0</td>\n",
       "      <td>0</td>\n",
       "      <td>0</td>\n",
       "      <td>0</td>\n",
       "      <td>0</td>\n",
       "    </tr>\n",
       "    <tr>\n",
       "      <th>2</th>\n",
       "      <td>0</td>\n",
       "      <td>0</td>\n",
       "      <td>0</td>\n",
       "      <td>0</td>\n",
       "      <td>0</td>\n",
       "      <td>0</td>\n",
       "      <td>0</td>\n",
       "      <td>0</td>\n",
       "      <td>0</td>\n",
       "      <td>0</td>\n",
       "      <td>...</td>\n",
       "      <td>0</td>\n",
       "      <td>0</td>\n",
       "      <td>0</td>\n",
       "      <td>0</td>\n",
       "      <td>0</td>\n",
       "      <td>0</td>\n",
       "      <td>0</td>\n",
       "      <td>0</td>\n",
       "      <td>0</td>\n",
       "      <td>0</td>\n",
       "    </tr>\n",
       "    <tr>\n",
       "      <th>3</th>\n",
       "      <td>0</td>\n",
       "      <td>0</td>\n",
       "      <td>0</td>\n",
       "      <td>0</td>\n",
       "      <td>0</td>\n",
       "      <td>0</td>\n",
       "      <td>0</td>\n",
       "      <td>0</td>\n",
       "      <td>0</td>\n",
       "      <td>0</td>\n",
       "      <td>...</td>\n",
       "      <td>0</td>\n",
       "      <td>0</td>\n",
       "      <td>0</td>\n",
       "      <td>0</td>\n",
       "      <td>0</td>\n",
       "      <td>0</td>\n",
       "      <td>0</td>\n",
       "      <td>0</td>\n",
       "      <td>0</td>\n",
       "      <td>0</td>\n",
       "    </tr>\n",
       "    <tr>\n",
       "      <th>4</th>\n",
       "      <td>0</td>\n",
       "      <td>0</td>\n",
       "      <td>0</td>\n",
       "      <td>0</td>\n",
       "      <td>0</td>\n",
       "      <td>0</td>\n",
       "      <td>0</td>\n",
       "      <td>0</td>\n",
       "      <td>0</td>\n",
       "      <td>0</td>\n",
       "      <td>...</td>\n",
       "      <td>0</td>\n",
       "      <td>0</td>\n",
       "      <td>0</td>\n",
       "      <td>0</td>\n",
       "      <td>0</td>\n",
       "      <td>0</td>\n",
       "      <td>0</td>\n",
       "      <td>0</td>\n",
       "      <td>0</td>\n",
       "      <td>0</td>\n",
       "    </tr>\n",
       "  </tbody>\n",
       "</table>\n",
       "<p>5 rows × 652 columns</p>\n",
       "</div>"
      ],
      "text/plain": [
       "   brand_acura  brand_alfa  brand_aston  brand_audi  brand_bentley  brand_bmw  \\\n",
       "0            0           0            0           0              0          0   \n",
       "1            0           0            0           0              0          0   \n",
       "2            0           0            0           0              0          0   \n",
       "3            0           0            0           0              0          0   \n",
       "4            0           0            0           0              0          0   \n",
       "\n",
       "   brand_buick  brand_cadillac  brand_chevrolet  brand_chrysler  ...  \\\n",
       "0            0               0                0               0  ...   \n",
       "1            0               0                0               0  ...   \n",
       "2            0               0                0               0  ...   \n",
       "3            0               0                0               0  ...   \n",
       "4            0               0                0               0  ...   \n",
       "\n",
       "   model_xt6  model_xterra  model_xts  model_xv  model_yaris  model_yukon  \\\n",
       "0          0             0          0         0            0            0   \n",
       "1          0             0          0         0            0            0   \n",
       "2          0             0          0         0            0            0   \n",
       "3          0             0          0         0            0            0   \n",
       "4          0             0          0         0            0            0   \n",
       "\n",
       "   model_z3  model_z4  model_zdx  model_zephyr  \n",
       "0         0         0          0             0  \n",
       "1         0         0          0             0  \n",
       "2         0         0          0             0  \n",
       "3         0         0          0             0  \n",
       "4         0         0          0             0  \n",
       "\n",
       "[5 rows x 652 columns]"
      ]
     },
     "execution_count": 10,
     "metadata": {},
     "output_type": "execute_result"
    }
   ],
   "source": [
    "# Dummy category variable\n",
    "dummy_cat = pd.get_dummies(train[categorical_features])\n",
    "dummy_cat.head()"
   ]
  },
  {
   "cell_type": "code",
   "execution_count": 11,
   "metadata": {},
   "outputs": [],
   "source": [
    "# Select year, miles, price by numeric variable\n",
    "# Select by numeric variable\n",
    "numerical_features = ['year', 'miles','price']"
   ]
  },
  {
   "cell_type": "code",
   "execution_count": 12,
   "metadata": {},
   "outputs": [
    {
     "data": {
      "text/html": [
       "<div>\n",
       "<style scoped>\n",
       "    .dataframe tbody tr th:only-of-type {\n",
       "        vertical-align: middle;\n",
       "    }\n",
       "\n",
       "    .dataframe tbody tr th {\n",
       "        vertical-align: top;\n",
       "    }\n",
       "\n",
       "    .dataframe thead th {\n",
       "        text-align: right;\n",
       "    }\n",
       "</style>\n",
       "<table border=\"1\" class=\"dataframe\">\n",
       "  <thead>\n",
       "    <tr style=\"text-align: right;\">\n",
       "      <th></th>\n",
       "      <th>year</th>\n",
       "      <th>miles</th>\n",
       "      <th>price</th>\n",
       "    </tr>\n",
       "  </thead>\n",
       "  <tbody>\n",
       "    <tr>\n",
       "      <th>0</th>\n",
       "      <td>7.610358</td>\n",
       "      <td>9.974179</td>\n",
       "      <td>10.203444</td>\n",
       "    </tr>\n",
       "    <tr>\n",
       "      <th>1</th>\n",
       "      <td>7.610853</td>\n",
       "      <td>9.175335</td>\n",
       "      <td>12.356650</td>\n",
       "    </tr>\n",
       "    <tr>\n",
       "      <th>2</th>\n",
       "      <td>7.609367</td>\n",
       "      <td>9.247829</td>\n",
       "      <td>9.797905</td>\n",
       "    </tr>\n",
       "    <tr>\n",
       "      <th>3</th>\n",
       "      <td>7.604894</td>\n",
       "      <td>10.575590</td>\n",
       "      <td>9.207837</td>\n",
       "    </tr>\n",
       "    <tr>\n",
       "      <th>4</th>\n",
       "      <td>7.605890</td>\n",
       "      <td>10.284728</td>\n",
       "      <td>9.159152</td>\n",
       "    </tr>\n",
       "    <tr>\n",
       "      <th>...</th>\n",
       "      <td>...</td>\n",
       "      <td>...</td>\n",
       "      <td>...</td>\n",
       "    </tr>\n",
       "    <tr>\n",
       "      <th>4985</th>\n",
       "      <td>7.610853</td>\n",
       "      <td>9.128479</td>\n",
       "      <td>10.340774</td>\n",
       "    </tr>\n",
       "    <tr>\n",
       "      <th>4986</th>\n",
       "      <td>7.609367</td>\n",
       "      <td>10.709829</td>\n",
       "      <td>9.305287</td>\n",
       "    </tr>\n",
       "    <tr>\n",
       "      <th>4987</th>\n",
       "      <td>7.607878</td>\n",
       "      <td>10.744925</td>\n",
       "      <td>9.159047</td>\n",
       "    </tr>\n",
       "    <tr>\n",
       "      <th>4988</th>\n",
       "      <td>7.609862</td>\n",
       "      <td>10.344159</td>\n",
       "      <td>10.016816</td>\n",
       "    </tr>\n",
       "    <tr>\n",
       "      <th>4989</th>\n",
       "      <td>7.603399</td>\n",
       "      <td>9.945637</td>\n",
       "      <td>11.383966</td>\n",
       "    </tr>\n",
       "  </tbody>\n",
       "</table>\n",
       "<p>4990 rows × 3 columns</p>\n",
       "</div>"
      ],
      "text/plain": [
       "          year      miles      price\n",
       "0     7.610358   9.974179  10.203444\n",
       "1     7.610853   9.175335  12.356650\n",
       "2     7.609367   9.247829   9.797905\n",
       "3     7.604894  10.575590   9.207837\n",
       "4     7.605890  10.284728   9.159152\n",
       "...        ...        ...        ...\n",
       "4985  7.610853   9.128479  10.340774\n",
       "4986  7.609367  10.709829   9.305287\n",
       "4987  7.607878  10.744925   9.159047\n",
       "4988  7.609862  10.344159  10.016816\n",
       "4989  7.603399   9.945637  11.383966\n",
       "\n",
       "[4990 rows x 3 columns]"
      ]
     },
     "execution_count": 12,
     "metadata": {},
     "output_type": "execute_result"
    }
   ],
   "source": [
    "np.log1p(train[numerical_features])"
   ]
  },
  {
   "cell_type": "code",
   "execution_count": 13,
   "metadata": {},
   "outputs": [
    {
     "data": {
      "text/html": [
       "<div>\n",
       "<style scoped>\n",
       "    .dataframe tbody tr th:only-of-type {\n",
       "        vertical-align: middle;\n",
       "    }\n",
       "\n",
       "    .dataframe tbody tr th {\n",
       "        vertical-align: top;\n",
       "    }\n",
       "\n",
       "    .dataframe thead th {\n",
       "        text-align: right;\n",
       "    }\n",
       "</style>\n",
       "<table border=\"1\" class=\"dataframe\">\n",
       "  <thead>\n",
       "    <tr style=\"text-align: right;\">\n",
       "      <th></th>\n",
       "      <th>year</th>\n",
       "      <th>miles</th>\n",
       "      <th>price</th>\n",
       "    </tr>\n",
       "  </thead>\n",
       "  <tbody>\n",
       "    <tr>\n",
       "      <th>0</th>\n",
       "      <td>7.610358</td>\n",
       "      <td>9.974179</td>\n",
       "      <td>10.203444</td>\n",
       "    </tr>\n",
       "    <tr>\n",
       "      <th>1</th>\n",
       "      <td>7.610853</td>\n",
       "      <td>9.175335</td>\n",
       "      <td>12.356650</td>\n",
       "    </tr>\n",
       "    <tr>\n",
       "      <th>2</th>\n",
       "      <td>7.609367</td>\n",
       "      <td>9.247829</td>\n",
       "      <td>9.797905</td>\n",
       "    </tr>\n",
       "    <tr>\n",
       "      <th>3</th>\n",
       "      <td>7.604894</td>\n",
       "      <td>10.575590</td>\n",
       "      <td>9.207837</td>\n",
       "    </tr>\n",
       "    <tr>\n",
       "      <th>4</th>\n",
       "      <td>7.605890</td>\n",
       "      <td>10.284728</td>\n",
       "      <td>9.159152</td>\n",
       "    </tr>\n",
       "  </tbody>\n",
       "</table>\n",
       "</div>"
      ],
      "text/plain": [
       "       year      miles      price\n",
       "0  7.610358   9.974179  10.203444\n",
       "1  7.610853   9.175335  12.356650\n",
       "2  7.609367   9.247829   9.797905\n",
       "3  7.604894  10.575590   9.207837\n",
       "4  7.605890  10.284728   9.159152"
      ]
     },
     "execution_count": 13,
     "metadata": {},
     "output_type": "execute_result"
    }
   ],
   "source": [
    "# Normalized numeric Variables\n",
    "normalize_num = np.log1p(train[numerical_features])\n",
    "normalize_num.head()"
   ]
  },
  {
   "cell_type": "code",
   "execution_count": 14,
   "metadata": {},
   "outputs": [],
   "source": [
    "# Join numeric variable with categoric variable\n",
    "X_train_0 = normalize_num.join(dummy_cat)\n",
    "\n",
    "# Seperate price as y value\n",
    "y_train = X_train_0[\"price\"]\n",
    "X_train = X_train_0.drop(\"price\", axis=1)"
   ]
  },
  {
   "cell_type": "markdown",
   "metadata": {},
   "source": [
    "### Model : XGBoost Model\n",
    "XGBoost is short for “Extreme Gradient Boosting”, where the term “Gradient Boosting” is proposed in the paper Greedy Function Approximation: A Gradient Boosting Machine, by Friedman. XGBoost is based on this original model.\n",
    "\n",
    "XGBoost is used for supervised learning problems, where we use the training data (with multiple features) x to predict a target variable y. Before we dive into trees, let us start by reviewing the basic elements in supervised learning."
   ]
  },
  {
   "cell_type": "code",
   "execution_count": 15,
   "metadata": {},
   "outputs": [],
   "source": [
    "from xgboost import XGBRegressor\n",
    "from sklearn.model_selection import train_test_split\n",
    "from sklearn.model_selection import cross_val_score\n",
    "from sklearn.model_selection import KFold\n",
    "\n",
    "# K-ford : 10\n",
    "k_fold = KFold(n_splits=10, shuffle=True, random_state=2018)\n",
    "X_train1, X_test1, y_train1, y_test1 = train_test_split(X_train, y_train)"
   ]
  },
  {
   "cell_type": "code",
   "execution_count": 16,
   "metadata": {},
   "outputs": [],
   "source": [
    "# Create XGBoost Regressor model\n",
    "ml = XGBRegressor(n_estimators=1000, learning_rate=0.05, verbose=False)"
   ]
  },
  {
   "cell_type": "code",
   "execution_count": 17,
   "metadata": {},
   "outputs": [
    {
     "name": "stderr",
     "output_type": "stream",
     "text": [
      "/home/ubuntu/.pyenv/versions/3.7.1/lib/python3.7/site-packages/xgboost/core.py:587: FutureWarning: Series.base is deprecated and will be removed in a future version\n",
      "  if getattr(data, 'base', None) is not None and \\\n"
     ]
    },
    {
     "name": "stdout",
     "output_type": "stream",
     "text": [
      "[13:43:13] WARNING: /workspace/src/objective/regression_obj.cu:152: reg:linear is now deprecated in favor of reg:squarederror.\n"
     ]
    },
    {
     "name": "stderr",
     "output_type": "stream",
     "text": [
      "/home/ubuntu/.pyenv/versions/3.7.1/lib/python3.7/site-packages/xgboost/core.py:587: FutureWarning: Series.base is deprecated and will be removed in a future version\n",
      "  if getattr(data, 'base', None) is not None and \\\n"
     ]
    },
    {
     "name": "stdout",
     "output_type": "stream",
     "text": [
      "[13:44:06] WARNING: /workspace/src/objective/regression_obj.cu:152: reg:linear is now deprecated in favor of reg:squarederror.\n"
     ]
    },
    {
     "name": "stderr",
     "output_type": "stream",
     "text": [
      "/home/ubuntu/.pyenv/versions/3.7.1/lib/python3.7/site-packages/xgboost/core.py:587: FutureWarning: Series.base is deprecated and will be removed in a future version\n",
      "  if getattr(data, 'base', None) is not None and \\\n"
     ]
    },
    {
     "name": "stdout",
     "output_type": "stream",
     "text": [
      "[13:45:00] WARNING: /workspace/src/objective/regression_obj.cu:152: reg:linear is now deprecated in favor of reg:squarederror.\n"
     ]
    },
    {
     "name": "stderr",
     "output_type": "stream",
     "text": [
      "/home/ubuntu/.pyenv/versions/3.7.1/lib/python3.7/site-packages/xgboost/core.py:587: FutureWarning: Series.base is deprecated and will be removed in a future version\n",
      "  if getattr(data, 'base', None) is not None and \\\n"
     ]
    },
    {
     "name": "stdout",
     "output_type": "stream",
     "text": [
      "[13:45:53] WARNING: /workspace/src/objective/regression_obj.cu:152: reg:linear is now deprecated in favor of reg:squarederror.\n"
     ]
    },
    {
     "name": "stderr",
     "output_type": "stream",
     "text": [
      "/home/ubuntu/.pyenv/versions/3.7.1/lib/python3.7/site-packages/xgboost/core.py:587: FutureWarning: Series.base is deprecated and will be removed in a future version\n",
      "  if getattr(data, 'base', None) is not None and \\\n"
     ]
    },
    {
     "name": "stdout",
     "output_type": "stream",
     "text": [
      "[13:46:46] WARNING: /workspace/src/objective/regression_obj.cu:152: reg:linear is now deprecated in favor of reg:squarederror.\n"
     ]
    },
    {
     "name": "stderr",
     "output_type": "stream",
     "text": [
      "/home/ubuntu/.pyenv/versions/3.7.1/lib/python3.7/site-packages/xgboost/core.py:587: FutureWarning: Series.base is deprecated and will be removed in a future version\n",
      "  if getattr(data, 'base', None) is not None and \\\n"
     ]
    },
    {
     "name": "stdout",
     "output_type": "stream",
     "text": [
      "[13:47:39] WARNING: /workspace/src/objective/regression_obj.cu:152: reg:linear is now deprecated in favor of reg:squarederror.\n"
     ]
    },
    {
     "name": "stderr",
     "output_type": "stream",
     "text": [
      "/home/ubuntu/.pyenv/versions/3.7.1/lib/python3.7/site-packages/xgboost/core.py:587: FutureWarning: Series.base is deprecated and will be removed in a future version\n",
      "  if getattr(data, 'base', None) is not None and \\\n"
     ]
    },
    {
     "name": "stdout",
     "output_type": "stream",
     "text": [
      "[13:48:32] WARNING: /workspace/src/objective/regression_obj.cu:152: reg:linear is now deprecated in favor of reg:squarederror.\n"
     ]
    },
    {
     "name": "stderr",
     "output_type": "stream",
     "text": [
      "/home/ubuntu/.pyenv/versions/3.7.1/lib/python3.7/site-packages/xgboost/core.py:587: FutureWarning: Series.base is deprecated and will be removed in a future version\n",
      "  if getattr(data, 'base', None) is not None and \\\n"
     ]
    },
    {
     "name": "stdout",
     "output_type": "stream",
     "text": [
      "[13:49:24] WARNING: /workspace/src/objective/regression_obj.cu:152: reg:linear is now deprecated in favor of reg:squarederror.\n"
     ]
    },
    {
     "name": "stderr",
     "output_type": "stream",
     "text": [
      "/home/ubuntu/.pyenv/versions/3.7.1/lib/python3.7/site-packages/xgboost/core.py:587: FutureWarning: Series.base is deprecated and will be removed in a future version\n",
      "  if getattr(data, 'base', None) is not None and \\\n"
     ]
    },
    {
     "name": "stdout",
     "output_type": "stream",
     "text": [
      "[13:50:15] WARNING: /workspace/src/objective/regression_obj.cu:152: reg:linear is now deprecated in favor of reg:squarederror.\n"
     ]
    },
    {
     "name": "stderr",
     "output_type": "stream",
     "text": [
      "/home/ubuntu/.pyenv/versions/3.7.1/lib/python3.7/site-packages/xgboost/core.py:587: FutureWarning: Series.base is deprecated and will be removed in a future version\n",
      "  if getattr(data, 'base', None) is not None and \\\n"
     ]
    },
    {
     "name": "stdout",
     "output_type": "stream",
     "text": [
      "[13:51:07] WARNING: /workspace/src/objective/regression_obj.cu:152: reg:linear is now deprecated in favor of reg:squarederror.\n",
      "CPU times: user 8min 38s, sys: 840 ms, total: 8min 39s\n",
      "Wall time: 8min 46s\n",
      "Score = 0.80747\n"
     ]
    }
   ],
   "source": [
    "# Check the corss validation score\n",
    "%time score = cross_val_score(ml, X_train, y_train, cv=k_fold, n_jobs=-1, scoring=\"r2\").mean()\n",
    "print(\"Score = {0:.5f}\".format(score))"
   ]
  },
  {
   "cell_type": "code",
   "execution_count": 18,
   "metadata": {},
   "outputs": [
    {
     "name": "stdout",
     "output_type": "stream",
     "text": [
      "[13:51:59] WARNING: /workspace/src/objective/regression_obj.cu:152: reg:linear is now deprecated in favor of reg:squarederror.\n"
     ]
    },
    {
     "name": "stderr",
     "output_type": "stream",
     "text": [
      "/home/ubuntu/.pyenv/versions/3.7.1/lib/python3.7/site-packages/xgboost/core.py:587: FutureWarning: Series.base is deprecated and will be removed in a future version\n",
      "  if getattr(data, 'base', None) is not None and \\\n"
     ]
    },
    {
     "data": {
      "image/png": "[encoded data removed]",
      "text/plain": [
       "<Figure size 720x360 with 1 Axes>"
      ]
     },
     "metadata": {
      "needs_background": "light"
     },
     "output_type": "display_data"
    }
   ],
   "source": [
    "# Train model\n",
    "ml = ml.fit(X_train1, y_train1)\n",
    "\n",
    "# Predict test data set\n",
    "y_pred = ml.predict(X_test1)\n",
    "\n",
    "# Drawing regression graph\n",
    "plt.figure(figsize=(10, 5))\n",
    "plt.scatter(y_test1, y_pred, s=20)\n",
    "plt.title('Predicted vs. Actual')\n",
    "plt.xlabel('Actual Sale Price')\n",
    "plt.ylabel('Predicted Sale Price')\n",
    "\n",
    "plt.plot([min(y_test1), max(y_test1)], [min(y_test1), max(y_test1)])\n",
    "plt.tight_layout()"
   ]
  },
  {
   "cell_type": "code",
   "execution_count": 21,
   "metadata": {},
   "outputs": [],
   "source": [
    "# Save the model to the pickle file\n",
    "pickle.dump(ml, open(\"./Flask/models/model.plk\",\"wb\"))"
   ]
  },
  {
   "cell_type": "code",
   "execution_count": 22,
   "metadata": {},
   "outputs": [],
   "source": [
    "# Set up a dataset using \"brand\", \"model\", \"year\", \"miles\", \"price\"\n",
    "actual_car_info = train[[\"brand\", \"model\",\"year\",\"miles\",\"price\"]]\n",
    "\n",
    "# Save the dataset to the pickle file\n",
    "pickle.dump(actual_car_info, open(\"./Flask/models/actual_car_info.plk\",\"wb\"))"
   ]
  },
  {
   "cell_type": "markdown",
   "metadata": {},
   "source": [
    "### Enter Used Car information"
   ]
  },
  {
   "cell_type": "code",
   "execution_count": 23,
   "metadata": {},
   "outputs": [
    {
     "name": "stdout",
     "output_type": "stream",
     "text": [
      "brand: kia\n",
      "model: forte\n",
      "year: 2015\n",
      "miles: 80000\n"
     ]
    }
   ],
   "source": [
    "# Enter the information of the vehicle you want to know about the estimated price of used car\n",
    "brand = str(input(\"brand: \"))\n",
    "model = str(input(\"model: \"))\n",
    "year = int(input(\"year: \"))\n",
    "miles = int(input(\"miles: \"))"
   ]
  },
  {
   "cell_type": "code",
   "execution_count": 24,
   "metadata": {},
   "outputs": [],
   "source": [
    "# Save the variable column used to train the model as a data frame\n",
    "target = pd.DataFrame(columns = [X_train1.columns])"
   ]
  },
  {
   "cell_type": "code",
   "execution_count": 25,
   "metadata": {},
   "outputs": [],
   "source": [
    "# Save the variable column to the pickle file\n",
    "pickle.dump(X_train1.columns, open(\"./Flask/models/column.plk\",\"wb\"))"
   ]
  },
  {
   "cell_type": "code",
   "execution_count": 26,
   "metadata": {},
   "outputs": [
    {
     "data": {
      "text/plain": [
       "25"
      ]
     },
     "execution_count": 26,
     "metadata": {},
     "output_type": "execute_result"
    }
   ],
   "source": [
    "# Check the index location of the selected used car brand in the variable column data frame\n",
    "brand_index = 0\n",
    "for col in X_train1.columns:\n",
    "    if col == 'brand'+\"_\"+brand:\n",
    "        break;\n",
    "    brand_index += 1\n",
    "brand_index"
   ]
  },
  {
   "cell_type": "code",
   "execution_count": 27,
   "metadata": {},
   "outputs": [
    {
     "data": {
      "text/plain": [
       "284"
      ]
     },
     "execution_count": 27,
     "metadata": {},
     "output_type": "execute_result"
    }
   ],
   "source": [
    "# Check the index location of the selected used car model in the variable column data frame\n",
    "model_index = 0\n",
    "for col in X_train1.columns:\n",
    "    if col == 'model'+\"_\"+model:\n",
    "        break;\n",
    "    model_index += 1\n",
    "model_index"
   ]
  },
  {
   "cell_type": "code",
   "execution_count": 28,
   "metadata": {},
   "outputs": [],
   "source": [
    "# Array of zeros\n",
    "target_list = np.zeros_like(X_train1.loc[0])"
   ]
  },
  {
   "cell_type": "code",
   "execution_count": 29,
   "metadata": {},
   "outputs": [],
   "source": [
    "# Save the target_list to pickle file\n",
    "pickle.dump(target_list, open(\"./Flask/models/target_list.plk\",\"wb\"))"
   ]
  },
  {
   "cell_type": "code",
   "execution_count": 30,
   "metadata": {},
   "outputs": [],
   "source": [
    "# Put the number 1 in the selected brand and model locations in the data frame\n",
    "target_list[brand_index] = 1\n",
    "target_list[model_index] = 1\n",
    "\n",
    "# Put the year and miles in the data frame\n",
    "target_list[0] = year\n",
    "target_list[1] = miles"
   ]
  },
  {
   "cell_type": "code",
   "execution_count": 31,
   "metadata": {
    "scrolled": true
   },
   "outputs": [],
   "source": [
    "# Insert data into target data frame \n",
    "for i in range(1):\n",
    "    target.loc[i] = target_list"
   ]
  },
  {
   "cell_type": "code",
   "execution_count": 32,
   "metadata": {
    "scrolled": true
   },
   "outputs": [],
   "source": [
    "# Nomalizing numerical features\n",
    "numerical_features = ['year', 'miles']\n",
    "normalize_target  = np.log1p(target[numerical_features])"
   ]
  },
  {
   "cell_type": "code",
   "execution_count": 33,
   "metadata": {},
   "outputs": [
    {
     "name": "stderr",
     "output_type": "stream",
     "text": [
      "/home/ubuntu/.pyenv/versions/3.7.1/lib/python3.7/site-packages/pandas/core/generic.py:3946: PerformanceWarning: dropping on a non-lexsorted multi-index without a level parameter may impact performance.\n",
      "  new_axis = axis.drop(labels, errors=errors)\n"
     ]
    }
   ],
   "source": [
    "target.drop(['year', 'miles'], axis=1, inplace=True)"
   ]
  },
  {
   "cell_type": "code",
   "execution_count": 34,
   "metadata": {},
   "outputs": [],
   "source": [
    "target_goal = normalize_target.join(target)"
   ]
  },
  {
   "cell_type": "code",
   "execution_count": 35,
   "metadata": {
    "scrolled": true
   },
   "outputs": [
    {
     "data": {
      "text/html": [
       "<div>\n",
       "<style scoped>\n",
       "    .dataframe tbody tr th:only-of-type {\n",
       "        vertical-align: middle;\n",
       "    }\n",
       "\n",
       "    .dataframe tbody tr th {\n",
       "        vertical-align: top;\n",
       "    }\n",
       "\n",
       "    .dataframe thead tr th {\n",
       "        text-align: left;\n",
       "    }\n",
       "</style>\n",
       "<table border=\"1\" class=\"dataframe\">\n",
       "  <thead>\n",
       "    <tr>\n",
       "      <th></th>\n",
       "      <th>year</th>\n",
       "      <th>miles</th>\n",
       "      <th>brand_acura</th>\n",
       "      <th>brand_alfa</th>\n",
       "      <th>brand_aston</th>\n",
       "      <th>brand_audi</th>\n",
       "      <th>brand_bentley</th>\n",
       "      <th>brand_bmw</th>\n",
       "      <th>brand_buick</th>\n",
       "      <th>brand_cadillac</th>\n",
       "      <th>...</th>\n",
       "      <th>model_xt6</th>\n",
       "      <th>model_xterra</th>\n",
       "      <th>model_xts</th>\n",
       "      <th>model_xv</th>\n",
       "      <th>model_yaris</th>\n",
       "      <th>model_yukon</th>\n",
       "      <th>model_z3</th>\n",
       "      <th>model_z4</th>\n",
       "      <th>model_zdx</th>\n",
       "      <th>model_zephyr</th>\n",
       "    </tr>\n",
       "  </thead>\n",
       "  <tbody>\n",
       "    <tr>\n",
       "      <th>0</th>\n",
       "      <td>7.608871</td>\n",
       "      <td>11.289794</td>\n",
       "      <td>0.0</td>\n",
       "      <td>0.0</td>\n",
       "      <td>0.0</td>\n",
       "      <td>0.0</td>\n",
       "      <td>0.0</td>\n",
       "      <td>0.0</td>\n",
       "      <td>0.0</td>\n",
       "      <td>0.0</td>\n",
       "      <td>...</td>\n",
       "      <td>0.0</td>\n",
       "      <td>0.0</td>\n",
       "      <td>0.0</td>\n",
       "      <td>0.0</td>\n",
       "      <td>0.0</td>\n",
       "      <td>0.0</td>\n",
       "      <td>0.0</td>\n",
       "      <td>0.0</td>\n",
       "      <td>0.0</td>\n",
       "      <td>0.0</td>\n",
       "    </tr>\n",
       "  </tbody>\n",
       "</table>\n",
       "<p>1 rows × 654 columns</p>\n",
       "</div>"
      ],
      "text/plain": [
       "       year      miles brand_acura brand_alfa brand_aston brand_audi  \\\n",
       "0  7.608871  11.289794         0.0        0.0         0.0        0.0   \n",
       "\n",
       "  brand_bentley brand_bmw brand_buick brand_cadillac  ... model_xt6  \\\n",
       "0           0.0       0.0         0.0            0.0  ...       0.0   \n",
       "\n",
       "  model_xterra model_xts model_xv model_yaris model_yukon model_z3 model_z4  \\\n",
       "0          0.0       0.0      0.0         0.0         0.0      0.0      0.0   \n",
       "\n",
       "  model_zdx model_zephyr  \n",
       "0       0.0          0.0  \n",
       "\n",
       "[1 rows x 654 columns]"
      ]
     },
     "execution_count": 35,
     "metadata": {},
     "output_type": "execute_result"
    }
   ],
   "source": [
    "target_goal"
   ]
  },
  {
   "cell_type": "markdown",
   "metadata": {},
   "source": [
    "### Predict Used_Car Values"
   ]
  },
  {
   "cell_type": "code",
   "execution_count": 36,
   "metadata": {},
   "outputs": [],
   "source": [
    "# Predicted logged price\n",
    "price_log = ml.predict(target_goal)"
   ]
  },
  {
   "cell_type": "code",
   "execution_count": 37,
   "metadata": {},
   "outputs": [
    {
     "data": {
      "text/plain": [
       "array([8.841245], dtype=float32)"
      ]
     },
     "execution_count": 37,
     "metadata": {},
     "output_type": "execute_result"
    }
   ],
   "source": [
    "price_log"
   ]
  },
  {
   "cell_type": "code",
   "execution_count": 38,
   "metadata": {},
   "outputs": [
    {
     "name": "stdout",
     "output_type": "stream",
     "text": [
      "Price: 6913\n"
     ]
    }
   ],
   "source": [
    "# Revert the logged price back to its original price\n",
    "price = np.exp(price_log)\n",
    "print(\"Price:\", int(price))"
   ]
  },
  {
   "cell_type": "markdown",
   "metadata": {},
   "source": [
    "### Compare same model with different years"
   ]
  },
  {
   "cell_type": "code",
   "execution_count": 39,
   "metadata": {},
   "outputs": [
    {
     "data": {
      "text/html": [
       "<div>\n",
       "<style scoped>\n",
       "    .dataframe tbody tr th:only-of-type {\n",
       "        vertical-align: middle;\n",
       "    }\n",
       "\n",
       "    .dataframe tbody tr th {\n",
       "        vertical-align: top;\n",
       "    }\n",
       "\n",
       "    .dataframe thead th {\n",
       "        text-align: right;\n",
       "    }\n",
       "</style>\n",
       "<table border=\"1\" class=\"dataframe\">\n",
       "  <thead>\n",
       "    <tr style=\"text-align: right;\">\n",
       "      <th></th>\n",
       "      <th>year</th>\n",
       "      <th>price</th>\n",
       "    </tr>\n",
       "  </thead>\n",
       "  <tbody>\n",
       "    <tr>\n",
       "      <th>0</th>\n",
       "      <td>2012</td>\n",
       "      <td>5597</td>\n",
       "    </tr>\n",
       "    <tr>\n",
       "      <th>1</th>\n",
       "      <td>2013</td>\n",
       "      <td>4950</td>\n",
       "    </tr>\n",
       "    <tr>\n",
       "      <th>2</th>\n",
       "      <td>2014</td>\n",
       "      <td>7524</td>\n",
       "    </tr>\n",
       "    <tr>\n",
       "      <th>3</th>\n",
       "      <td>2015</td>\n",
       "      <td>5993</td>\n",
       "    </tr>\n",
       "    <tr>\n",
       "      <th>4</th>\n",
       "      <td>2016</td>\n",
       "      <td>6996</td>\n",
       "    </tr>\n",
       "    <tr>\n",
       "      <th>5</th>\n",
       "      <td>2017</td>\n",
       "      <td>8413</td>\n",
       "    </tr>\n",
       "    <tr>\n",
       "      <th>6</th>\n",
       "      <td>2018</td>\n",
       "      <td>9999</td>\n",
       "    </tr>\n",
       "    <tr>\n",
       "      <th>7</th>\n",
       "      <td>2019</td>\n",
       "      <td>13697</td>\n",
       "    </tr>\n",
       "  </tbody>\n",
       "</table>\n",
       "</div>"
      ],
      "text/plain": [
       "   year  price\n",
       "0  2012   5597\n",
       "1  2013   4950\n",
       "2  2014   7524\n",
       "3  2015   5993\n",
       "4  2016   6996\n",
       "5  2017   8413\n",
       "6  2018   9999\n",
       "7  2019  13697"
      ]
     },
     "execution_count": 39,
     "metadata": {},
     "output_type": "execute_result"
    }
   ],
   "source": [
    "# Find the average of the same model for each year\n",
    "same_model = actual_car_info[actual_car_info[\"model\"]==model] \n",
    "year_price = same_model[[\"year\", \"price\"]]\n",
    "year_price_list = year_price.groupby(\"year\").agg({'price':np.mean}).astype('int')\n",
    "year_price_list = year_price_list.reset_index()\n",
    "year_price_list"
   ]
  },
  {
   "cell_type": "code",
   "execution_count": 40,
   "metadata": {},
   "outputs": [],
   "source": [
    "# Convert year from number type to character type\n",
    "year_price_list[\"year\"] = year_price_list[\"year\"].apply(lambda x: str(x) )"
   ]
  },
  {
   "cell_type": "code",
   "execution_count": 41,
   "metadata": {},
   "outputs": [],
   "source": [
    "# Convert price from number type to character type\n",
    "year_price_list[\"price\"] = year_price_list[\"price\"].apply(lambda x: str(x) )"
   ]
  },
  {
   "cell_type": "code",
   "execution_count": 42,
   "metadata": {},
   "outputs": [
    {
     "data": {
      "text/plain": [
       "['5597', '4950', '7524', '5993', '6996', '8413', '9999', '13697']"
      ]
     },
     "execution_count": 42,
     "metadata": {},
     "output_type": "execute_result"
    }
   ],
   "source": [
    "list(year_price_list[\"price\"])"
   ]
  }
 ],
 "metadata": {
  "kernelspec": {
   "display_name": "Python 3",
   "language": "python",
   "name": "python3"
  },
  "language_info": {
   "codemirror_mode": {
    "name": "ipython",
    "version": 3
   },
   "file_extension": ".py",
   "mimetype": "text/x-python",
   "name": "python",
   "nbconvert_exporter": "python",
   "pygments_lexer": "ipython3",
   "version": "3.7.1"
  }
 },
 "nbformat": 4,
 "nbformat_minor": 2
}
