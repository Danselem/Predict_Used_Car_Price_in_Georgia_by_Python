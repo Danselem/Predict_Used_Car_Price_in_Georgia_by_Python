{
 "cells": [
  {
   "cell_type": "code",
   "execution_count": 1,
   "metadata": {},
   "outputs": [],
   "source": [
    "import MySQLdb, pickle\n",
    "import pandas as pd\n",
    "from sqlalchemy import create_engine\n",
    "from collections import Counter"
   ]
  },
  {
   "cell_type": "code",
   "execution_count": 2,
   "metadata": {},
   "outputs": [
    {
     "data": {
      "text/html": [
       "<div>\n",
       "<style>\n",
       "    .dataframe thead tr:only-child th {\n",
       "        text-align: right;\n",
       "    }\n",
       "\n",
       "    .dataframe thead th {\n",
       "        text-align: left;\n",
       "    }\n",
       "\n",
       "    .dataframe tbody tr th {\n",
       "        vertical-align: top;\n",
       "    }\n",
       "</style>\n",
       "<table border=\"1\" class=\"dataframe\">\n",
       "  <thead>\n",
       "    <tr style=\"text-align: right;\">\n",
       "      <th></th>\n",
       "      <th>index</th>\n",
       "      <th>year</th>\n",
       "      <th>title</th>\n",
       "      <th>brand</th>\n",
       "      <th>model</th>\n",
       "      <th>miles</th>\n",
       "      <th>photos</th>\n",
       "      <th>video</th>\n",
       "      <th>exterior_color</th>\n",
       "      <th>interior_color</th>\n",
       "      <th>transmission</th>\n",
       "      <th>drivetrain</th>\n",
       "      <th>star</th>\n",
       "      <th>review_no</th>\n",
       "      <th>vendor</th>\n",
       "      <th>price</th>\n",
       "    </tr>\n",
       "  </thead>\n",
       "  <tbody>\n",
       "    <tr>\n",
       "      <th>0</th>\n",
       "      <td>0</td>\n",
       "      <td>2016</td>\n",
       "      <td>chevrolet corvette z06</td>\n",
       "      <td>chevrolet</td>\n",
       "      <td>corvette</td>\n",
       "      <td>29277</td>\n",
       "      <td>31</td>\n",
       "      <td>1</td>\n",
       "      <td>arctic</td>\n",
       "      <td>adrenaline red</td>\n",
       "      <td>7-speed</td>\n",
       "      <td>rwd</td>\n",
       "      <td>4</td>\n",
       "      <td>153</td>\n",
       "      <td>porsche atlanta perimeter</td>\n",
       "      <td>58999</td>\n",
       "    </tr>\n",
       "    <tr>\n",
       "      <th>1</th>\n",
       "      <td>1</td>\n",
       "      <td>2005</td>\n",
       "      <td>bentley continental gt base</td>\n",
       "      <td>bentley</td>\n",
       "      <td>continental</td>\n",
       "      <td>40946</td>\n",
       "      <td>32</td>\n",
       "      <td>1</td>\n",
       "      <td>silver</td>\n",
       "      <td>gray</td>\n",
       "      <td>6-speed</td>\n",
       "      <td>4wd</td>\n",
       "      <td>4</td>\n",
       "      <td>945</td>\n",
       "      <td>almgwinnett</td>\n",
       "      <td>38990</td>\n",
       "    </tr>\n",
       "    <tr>\n",
       "      <th>2</th>\n",
       "      <td>2</td>\n",
       "      <td>2018</td>\n",
       "      <td>lamborghini huracan performante</td>\n",
       "      <td>lamborghini</td>\n",
       "      <td>huracan</td>\n",
       "      <td>1130</td>\n",
       "      <td>32</td>\n",
       "      <td>1</td>\n",
       "      <td>grigio</td>\n",
       "      <td>nero ade</td>\n",
       "      <td>7-speed</td>\n",
       "      <td>4wd</td>\n",
       "      <td>5</td>\n",
       "      <td>8</td>\n",
       "      <td>motorcars of georgia</td>\n",
       "      <td>319500</td>\n",
       "    </tr>\n",
       "    <tr>\n",
       "      <th>3</th>\n",
       "      <td>3</td>\n",
       "      <td>2013</td>\n",
       "      <td>tesla model s base</td>\n",
       "      <td>tesla</td>\n",
       "      <td>model</td>\n",
       "      <td>83003</td>\n",
       "      <td>32</td>\n",
       "      <td>1</td>\n",
       "      <td>black</td>\n",
       "      <td>black</td>\n",
       "      <td>1-speed</td>\n",
       "      <td>rwd</td>\n",
       "      <td>4</td>\n",
       "      <td>714</td>\n",
       "      <td>atlantaautos</td>\n",
       "      <td>34999</td>\n",
       "    </tr>\n",
       "    <tr>\n",
       "      <th>4</th>\n",
       "      <td>4</td>\n",
       "      <td>2009</td>\n",
       "      <td>audi r8 4.2l</td>\n",
       "      <td>audi</td>\n",
       "      <td>r8</td>\n",
       "      <td>32927</td>\n",
       "      <td>24</td>\n",
       "      <td>1</td>\n",
       "      <td>ibis</td>\n",
       "      <td>gray</td>\n",
       "      <td>6-speed</td>\n",
       "      <td>4wd</td>\n",
       "      <td>5</td>\n",
       "      <td>9</td>\n",
       "      <td>hendersonville auto brokers</td>\n",
       "      <td>66885</td>\n",
       "    </tr>\n",
       "  </tbody>\n",
       "</table>\n",
       "</div>"
      ],
      "text/plain": [
       "   index  year                            title        brand        model  \\\n",
       "0      0  2016           chevrolet corvette z06    chevrolet     corvette   \n",
       "1      1  2005      bentley continental gt base      bentley  continental   \n",
       "2      2  2018  lamborghini huracan performante  lamborghini      huracan   \n",
       "3      3  2013               tesla model s base        tesla        model   \n",
       "4      4  2009                     audi r8 4.2l         audi           r8   \n",
       "\n",
       "   miles  photos  video exterior_color  interior_color transmission  \\\n",
       "0  29277      31      1         arctic  adrenaline red      7-speed   \n",
       "1  40946      32      1         silver            gray      6-speed   \n",
       "2   1130      32      1         grigio        nero ade      7-speed   \n",
       "3  83003      32      1          black           black      1-speed   \n",
       "4  32927      24      1           ibis            gray      6-speed   \n",
       "\n",
       "  drivetrain  star  review_no                       vendor   price  \n",
       "0        rwd     4        153    porsche atlanta perimeter   58999  \n",
       "1        4wd     4        945                  almgwinnett   38990  \n",
       "2        4wd     5          8         motorcars of georgia  319500  \n",
       "3        rwd     4        714                 atlantaautos   34999  \n",
       "4        4wd     5          9  hendersonville auto brokers   66885  "
      ]
     },
     "execution_count": 2,
     "metadata": {},
     "output_type": "execute_result"
    }
   ],
   "source": [
    "# Read car_info from MySQL at Amazon Web Service Cloud \n",
    "pw = pickle.load(open('./Flask/models/pw.plk','rb'))\n",
    "\n",
    "db = MySQLdb.connect(\n",
    "    \"13.125.209.138\",\n",
    "    \"root\",\n",
    "    pw,\n",
    "    \"used_car\",\n",
    "    charset='utf8',\n",
    ")\n",
    "\n",
    "# SQL Query\n",
    "SQL_QUERY = \"\"\"\n",
    "    SELECT *\n",
    "    FROM used_car;\n",
    "\"\"\"\n",
    "\n",
    "# Bring car information from MySQL into dataframe\n",
    "train = pd.read_sql(SQL_QUERY, db)\n",
    "train.head()"
   ]
  },
  {
   "cell_type": "code",
   "execution_count": 3,
   "metadata": {},
   "outputs": [],
   "source": [
    "# Saving data to the database\n",
    "pickle.dump(train, open(\"./Flask/models/database.plk\",\"wb\"))"
   ]
  },
  {
   "cell_type": "code",
   "execution_count": null,
   "metadata": {},
   "outputs": [],
   "source": [
    "# Group by brand and model\n",
    "brand_group = list(set(database[\"brand\"]))\n",
    "model_group = list(set(database[\"model\"]))"
   ]
  },
  {
   "cell_type": "code",
   "execution_count": 5,
   "metadata": {},
   "outputs": [],
   "source": [
    "# Top 30 car brands\n",
    "brand_list = []\n",
    "for brand in Counter(train.brand).most_common(30):\n",
    "    brand_list.append(brand[0])"
   ]
  },
  {
   "cell_type": "code",
   "execution_count": 6,
   "metadata": {},
   "outputs": [],
   "source": [
    "# Check the index of data not included in the top 30 car brands\n",
    "idx_list = []\n",
    "idx = 0\n",
    "for i in train[\"brand\"]:\n",
    "    if i not in brand_list:\n",
    "        idx_list.append(idx)\n",
    "    idx += 1"
   ]
  },
  {
   "cell_type": "code",
   "execution_count": 7,
   "metadata": {},
   "outputs": [],
   "source": [
    "# Only the top 30 car brands are filtered\n",
    "train = train.drop(idx_list)\n",
    "train.reset_index(drop=True, inplace=True)\n",
    "train = train.drop(\"index\", axis=1)"
   ]
  },
  {
   "cell_type": "markdown",
   "metadata": {},
   "source": [
    "### Feature engineering"
   ]
  },
  {
   "cell_type": "code",
   "execution_count": 8,
   "metadata": {},
   "outputs": [],
   "source": [
    "# Select models and brands as category variables\n",
    "categorical_features = ['brand', 'model']"
   ]
  },
  {
   "cell_type": "code",
   "execution_count": 9,
   "metadata": {},
   "outputs": [
    {
     "data": {
      "text/html": [
       "<div>\n",
       "<style>\n",
       "    .dataframe thead tr:only-child th {\n",
       "        text-align: right;\n",
       "    }\n",
       "\n",
       "    .dataframe thead th {\n",
       "        text-align: left;\n",
       "    }\n",
       "\n",
       "    .dataframe tbody tr th {\n",
       "        vertical-align: top;\n",
       "    }\n",
       "</style>\n",
       "<table border=\"1\" class=\"dataframe\">\n",
       "  <thead>\n",
       "    <tr style=\"text-align: right;\">\n",
       "      <th></th>\n",
       "      <th>brand_acura</th>\n",
       "      <th>brand_alfa</th>\n",
       "      <th>brand_aston</th>\n",
       "      <th>brand_audi</th>\n",
       "      <th>brand_bentley</th>\n",
       "      <th>brand_bmw</th>\n",
       "      <th>brand_cadillac</th>\n",
       "      <th>brand_chevrolet</th>\n",
       "      <th>brand_dodge</th>\n",
       "      <th>brand_ferrari</th>\n",
       "      <th>...</th>\n",
       "      <th>model_xk8</th>\n",
       "      <th>model_xkr</th>\n",
       "      <th>model_xterra</th>\n",
       "      <th>model_xts</th>\n",
       "      <th>model_xv</th>\n",
       "      <th>model_yaris</th>\n",
       "      <th>model_yukon</th>\n",
       "      <th>model_z3</th>\n",
       "      <th>model_z4</th>\n",
       "      <th>model_zdx</th>\n",
       "    </tr>\n",
       "  </thead>\n",
       "  <tbody>\n",
       "    <tr>\n",
       "      <th>0</th>\n",
       "      <td>0</td>\n",
       "      <td>0</td>\n",
       "      <td>0</td>\n",
       "      <td>0</td>\n",
       "      <td>0</td>\n",
       "      <td>0</td>\n",
       "      <td>0</td>\n",
       "      <td>1</td>\n",
       "      <td>0</td>\n",
       "      <td>0</td>\n",
       "      <td>...</td>\n",
       "      <td>0</td>\n",
       "      <td>0</td>\n",
       "      <td>0</td>\n",
       "      <td>0</td>\n",
       "      <td>0</td>\n",
       "      <td>0</td>\n",
       "      <td>0</td>\n",
       "      <td>0</td>\n",
       "      <td>0</td>\n",
       "      <td>0</td>\n",
       "    </tr>\n",
       "    <tr>\n",
       "      <th>1</th>\n",
       "      <td>0</td>\n",
       "      <td>0</td>\n",
       "      <td>0</td>\n",
       "      <td>0</td>\n",
       "      <td>1</td>\n",
       "      <td>0</td>\n",
       "      <td>0</td>\n",
       "      <td>0</td>\n",
       "      <td>0</td>\n",
       "      <td>0</td>\n",
       "      <td>...</td>\n",
       "      <td>0</td>\n",
       "      <td>0</td>\n",
       "      <td>0</td>\n",
       "      <td>0</td>\n",
       "      <td>0</td>\n",
       "      <td>0</td>\n",
       "      <td>0</td>\n",
       "      <td>0</td>\n",
       "      <td>0</td>\n",
       "      <td>0</td>\n",
       "    </tr>\n",
       "    <tr>\n",
       "      <th>2</th>\n",
       "      <td>0</td>\n",
       "      <td>0</td>\n",
       "      <td>0</td>\n",
       "      <td>0</td>\n",
       "      <td>0</td>\n",
       "      <td>0</td>\n",
       "      <td>0</td>\n",
       "      <td>0</td>\n",
       "      <td>0</td>\n",
       "      <td>0</td>\n",
       "      <td>...</td>\n",
       "      <td>0</td>\n",
       "      <td>0</td>\n",
       "      <td>0</td>\n",
       "      <td>0</td>\n",
       "      <td>0</td>\n",
       "      <td>0</td>\n",
       "      <td>0</td>\n",
       "      <td>0</td>\n",
       "      <td>0</td>\n",
       "      <td>0</td>\n",
       "    </tr>\n",
       "    <tr>\n",
       "      <th>3</th>\n",
       "      <td>0</td>\n",
       "      <td>0</td>\n",
       "      <td>0</td>\n",
       "      <td>0</td>\n",
       "      <td>0</td>\n",
       "      <td>0</td>\n",
       "      <td>0</td>\n",
       "      <td>0</td>\n",
       "      <td>0</td>\n",
       "      <td>0</td>\n",
       "      <td>...</td>\n",
       "      <td>0</td>\n",
       "      <td>0</td>\n",
       "      <td>0</td>\n",
       "      <td>0</td>\n",
       "      <td>0</td>\n",
       "      <td>0</td>\n",
       "      <td>0</td>\n",
       "      <td>0</td>\n",
       "      <td>0</td>\n",
       "      <td>0</td>\n",
       "    </tr>\n",
       "    <tr>\n",
       "      <th>4</th>\n",
       "      <td>0</td>\n",
       "      <td>0</td>\n",
       "      <td>0</td>\n",
       "      <td>1</td>\n",
       "      <td>0</td>\n",
       "      <td>0</td>\n",
       "      <td>0</td>\n",
       "      <td>0</td>\n",
       "      <td>0</td>\n",
       "      <td>0</td>\n",
       "      <td>...</td>\n",
       "      <td>0</td>\n",
       "      <td>0</td>\n",
       "      <td>0</td>\n",
       "      <td>0</td>\n",
       "      <td>0</td>\n",
       "      <td>0</td>\n",
       "      <td>0</td>\n",
       "      <td>0</td>\n",
       "      <td>0</td>\n",
       "      <td>0</td>\n",
       "    </tr>\n",
       "  </tbody>\n",
       "</table>\n",
       "<p>5 rows × 443 columns</p>\n",
       "</div>"
      ],
      "text/plain": [
       "   brand_acura  brand_alfa  brand_aston  brand_audi  brand_bentley  brand_bmw  \\\n",
       "0            0           0            0           0              0          0   \n",
       "1            0           0            0           0              1          0   \n",
       "2            0           0            0           0              0          0   \n",
       "3            0           0            0           0              0          0   \n",
       "4            0           0            0           1              0          0   \n",
       "\n",
       "   brand_cadillac  brand_chevrolet  brand_dodge  brand_ferrari    ...      \\\n",
       "0               0                1            0              0    ...       \n",
       "1               0                0            0              0    ...       \n",
       "2               0                0            0              0    ...       \n",
       "3               0                0            0              0    ...       \n",
       "4               0                0            0              0    ...       \n",
       "\n",
       "   model_xk8  model_xkr  model_xterra  model_xts  model_xv  model_yaris  \\\n",
       "0          0          0             0          0         0            0   \n",
       "1          0          0             0          0         0            0   \n",
       "2          0          0             0          0         0            0   \n",
       "3          0          0             0          0         0            0   \n",
       "4          0          0             0          0         0            0   \n",
       "\n",
       "   model_yukon  model_z3  model_z4  model_zdx  \n",
       "0            0         0         0          0  \n",
       "1            0         0         0          0  \n",
       "2            0         0         0          0  \n",
       "3            0         0         0          0  \n",
       "4            0         0         0          0  \n",
       "\n",
       "[5 rows x 443 columns]"
      ]
     },
     "execution_count": 9,
     "metadata": {},
     "output_type": "execute_result"
    }
   ],
   "source": [
    "# Dummy category variable\n",
    "dummy_cat = pd.get_dummies(train[categorical_features])\n",
    "dummy_cat.head()"
   ]
  },
  {
   "cell_type": "code",
   "execution_count": 12,
   "metadata": {},
   "outputs": [],
   "source": [
    "# Select year, miles, price by numeric variable\n",
    "# Select by numeric variable\n",
    "numerical_features = ['year', 'miles','price']"
   ]
  },
  {
   "cell_type": "code",
   "execution_count": 13,
   "metadata": {},
   "outputs": [
    {
     "data": {
      "text/html": [
       "<div>\n",
       "<style>\n",
       "    .dataframe thead tr:only-child th {\n",
       "        text-align: right;\n",
       "    }\n",
       "\n",
       "    .dataframe thead th {\n",
       "        text-align: left;\n",
       "    }\n",
       "\n",
       "    .dataframe tbody tr th {\n",
       "        vertical-align: top;\n",
       "    }\n",
       "</style>\n",
       "<table border=\"1\" class=\"dataframe\">\n",
       "  <thead>\n",
       "    <tr style=\"text-align: right;\">\n",
       "      <th></th>\n",
       "      <th>year</th>\n",
       "      <th>miles</th>\n",
       "      <th>price</th>\n",
       "    </tr>\n",
       "  </thead>\n",
       "  <tbody>\n",
       "    <tr>\n",
       "      <th>0</th>\n",
       "      <td>7.609367</td>\n",
       "      <td>10.284592</td>\n",
       "      <td>10.985293</td>\n",
       "    </tr>\n",
       "    <tr>\n",
       "      <th>1</th>\n",
       "      <td>7.603898</td>\n",
       "      <td>10.620034</td>\n",
       "      <td>10.571086</td>\n",
       "    </tr>\n",
       "    <tr>\n",
       "      <th>2</th>\n",
       "      <td>7.610358</td>\n",
       "      <td>7.030857</td>\n",
       "      <td>12.674516</td>\n",
       "    </tr>\n",
       "    <tr>\n",
       "      <th>3</th>\n",
       "      <td>7.607878</td>\n",
       "      <td>11.326644</td>\n",
       "      <td>10.463103</td>\n",
       "    </tr>\n",
       "    <tr>\n",
       "      <th>4</th>\n",
       "      <td>7.605890</td>\n",
       "      <td>10.402079</td>\n",
       "      <td>11.110745</td>\n",
       "    </tr>\n",
       "  </tbody>\n",
       "</table>\n",
       "</div>"
      ],
      "text/plain": [
       "       year      miles      price\n",
       "0  7.609367  10.284592  10.985293\n",
       "1  7.603898  10.620034  10.571086\n",
       "2  7.610358   7.030857  12.674516\n",
       "3  7.607878  11.326644  10.463103\n",
       "4  7.605890  10.402079  11.110745"
      ]
     },
     "execution_count": 13,
     "metadata": {},
     "output_type": "execute_result"
    }
   ],
   "source": [
    "# Normalized numeric Variables\n",
    "normalize_num = np.log1p(train[numerical_features])\n",
    "normalize_num.head()"
   ]
  },
  {
   "cell_type": "code",
   "execution_count": 14,
   "metadata": {},
   "outputs": [],
   "source": [
    "# Join numeric variable with categoric variable\n",
    "X_train_0 = normalize_num.join(dummy_cat)\n",
    "\n",
    "# Seperate price as y value\n",
    "y_train = X_train_0[\"price\"]\n",
    "X_train = X_train_0.drop(\"price\", axis=1)"
   ]
  },
  {
   "cell_type": "markdown",
   "metadata": {},
   "source": [
    "### Model : XGBoost Model\n",
    "XGBoost is short for “Extreme Gradient Boosting”, where the term “Gradient Boosting” is proposed in the paper Greedy Function Approximation: A Gradient Boosting Machine, by Friedman. XGBoost is based on this original model.\n",
    "\n",
    "XGBoost is used for supervised learning problems, where we use the training data (with multiple features) x to predict a target variable y. Before we dive into trees, let us start by reviewing the basic elements in supervised learning."
   ]
  },
  {
   "cell_type": "code",
   "execution_count": 16,
   "metadata": {},
   "outputs": [],
   "source": [
    "from xgboost import XGBRegressor\n",
    "from sklearn.cross_validation import train_test_split\n",
    "from sklearn.model_selection import cross_val_score\n",
    "from sklearn.model_selection import KFold\n",
    "\n",
    "# K-ford : 10\n",
    "k_fold = KFold(n_splits=10, shuffle=True, random_state=2018)\n",
    "X_train1, X_test1, y_train1, y_test1 = train_test_split(X_train, y_train)"
   ]
  },
  {
   "cell_type": "code",
   "execution_count": 17,
   "metadata": {},
   "outputs": [],
   "source": [
    "# Create XGBoost Regressor model\n",
    "ml = XGBRegressor(n_estimators=1000, learning_rate=0.05, verbose=False)"
   ]
  },
  {
   "cell_type": "code",
   "execution_count": 18,
   "metadata": {},
   "outputs": [
    {
     "name": "stdout",
     "output_type": "stream",
     "text": [
      "CPU times: user 221 ms, sys: 68.1 ms, total: 289 ms\n",
      "Wall time: 2min 36s\n",
      "Score = 0.88039\n"
     ]
    }
   ],
   "source": [
    "# Check the corss validation score\n",
    "%time score = cross_val_score(ml, X_train, y_train, cv=k_fold, n_jobs=-1, scoring=\"r2\").mean()\n",
    "print(\"Score = {0:.5f}\".format(score))"
   ]
  },
  {
   "cell_type": "code",
   "execution_count": 19,
   "metadata": {},
   "outputs": [
    {
     "data": {
      "image/png": "[encoded data removed]",
      "text/plain": [
       "<matplotlib.figure.Figure at 0x1073cbf98>"
      ]
     },
     "metadata": {
      "image/png": {
       "height": 349,
       "width": 708
      }
     },
     "output_type": "display_data"
    }
   ],
   "source": [
    "# Train model\n",
    "ml = ml.fit(X_train1, y_train1)\n",
    "\n",
    "# Predict test data set\n",
    "y_pred = ml.predict(X_test1)\n",
    "\n",
    "# Drawing regression graph\n",
    "plt.figure(figsize=(10, 5))\n",
    "plt.scatter(y_test1, y_pred, s=20)\n",
    "plt.title('Predicted vs. Actual')\n",
    "plt.xlabel('Actual Sale Price')\n",
    "plt.ylabel('Predicted Sale Price')\n",
    "\n",
    "plt.plot([min(y_test1), max(y_test1)], [min(y_test1), max(y_test1)])\n",
    "plt.tight_layout()"
   ]
  },
  {
   "cell_type": "code",
   "execution_count": 20,
   "metadata": {},
   "outputs": [],
   "source": [
    "# Save the model to the pickle file\n",
    "pickle.dump(ml, open(\"./Flask/models/model.plk\",\"wb\"))"
   ]
  },
  {
   "cell_type": "code",
   "execution_count": 21,
   "metadata": {},
   "outputs": [],
   "source": [
    "# Set up a dataset using \"brand\", \"model\", \"year\", \"miles\", \"price\"\n",
    "actual_car_info = train[[\"brand\", \"model\",\"year\",\"miles\",\"price\"]]\n",
    "\n",
    "# Save the dataset to the pickle file\n",
    "pickle.dump(actual_car_info, open(\"./Flask/models/actual_car_info.plk\",\"wb\"))"
   ]
  },
  {
   "cell_type": "markdown",
   "metadata": {},
   "source": [
    "### Enter Used Car information"
   ]
  },
  {
   "cell_type": "code",
   "execution_count": 22,
   "metadata": {},
   "outputs": [
    {
     "name": "stdout",
     "output_type": "stream",
     "text": [
      "brand: ford\n",
      "model: f-150\n",
      "year: 2011\n",
      "miles: 30000\n"
     ]
    }
   ],
   "source": [
    "# Enter the information of the vehicle you want to know about the estimated price of used car\n",
    "brand = str(input(\"brand: \"))\n",
    "model = str(input(\"model: \"))\n",
    "year = int(input(\"year: \"))\n",
    "miles = int(input(\"miles: \"))"
   ]
  },
  {
   "cell_type": "code",
   "execution_count": 23,
   "metadata": {},
   "outputs": [],
   "source": [
    "# Save the variable column used to train the model as a data frame\n",
    "target = pd.DataFrame(columns = [X_train1.columns])"
   ]
  },
  {
   "cell_type": "code",
   "execution_count": 24,
   "metadata": {},
   "outputs": [],
   "source": [
    "# Save the variable column to the pickle file\n",
    "pickle.dump(X_train1.columns, open(\"./Flask/models/column.plk\",\"wb\"))"
   ]
  },
  {
   "cell_type": "code",
   "execution_count": 25,
   "metadata": {},
   "outputs": [
    {
     "data": {
      "text/plain": [
       "12"
      ]
     },
     "execution_count": 25,
     "metadata": {},
     "output_type": "execute_result"
    }
   ],
   "source": [
    "# Check the index location of the selected used car brand in the variable column data frame\n",
    "brand_index = 0\n",
    "for col in X_train.columns:\n",
    "    if col == 'brand'+\"_\"+brand:\n",
    "        break;\n",
    "    brand_index += 1\n",
    "brand_index"
   ]
  },
  {
   "cell_type": "code",
   "execution_count": 26,
   "metadata": {},
   "outputs": [
    {
     "data": {
      "text/plain": [
       "190"
      ]
     },
     "execution_count": 26,
     "metadata": {},
     "output_type": "execute_result"
    }
   ],
   "source": [
    "# Check the index location of the selected used car model in the variable column data frame\n",
    "model_index = 0\n",
    "for col in X_train.columns:\n",
    "    if col == 'model'+\"_\"+model:\n",
    "        break;\n",
    "    model_index += 1\n",
    "model_index"
   ]
  },
  {
   "cell_type": "code",
   "execution_count": 27,
   "metadata": {},
   "outputs": [],
   "source": [
    "# Array of zeros\n",
    "target_list = np.zeros_like(X_train.loc[0])"
   ]
  },
  {
   "cell_type": "code",
   "execution_count": 28,
   "metadata": {},
   "outputs": [],
   "source": [
    "# Save the target_list to pickle file\n",
    "pickle.dump(target_list, open(\"./Flask/models/target_list.plk\",\"wb\"))"
   ]
  },
  {
   "cell_type": "code",
   "execution_count": 29,
   "metadata": {},
   "outputs": [],
   "source": [
    "# Put the number 1 in the selected brand and model locations in the data frame\n",
    "target_list[brand_index] = 1\n",
    "target_list[model_index] = 1\n",
    "\n",
    "# Put the year and miles in the data frame\n",
    "target_list[0] = year\n",
    "target_list[1] = miles"
   ]
  },
  {
   "cell_type": "code",
   "execution_count": 30,
   "metadata": {
    "scrolled": true
   },
   "outputs": [],
   "source": [
    "# Insert data into target data frame \n",
    "for i in range(1):\n",
    "    target.loc[i] = target_list"
   ]
  },
  {
   "cell_type": "code",
   "execution_count": 31,
   "metadata": {},
   "outputs": [
    {
     "data": {
      "text/html": [
       "<div>\n",
       "<style>\n",
       "    .dataframe thead tr:only-child th {\n",
       "        text-align: right;\n",
       "    }\n",
       "\n",
       "    .dataframe thead th {\n",
       "        text-align: left;\n",
       "    }\n",
       "\n",
       "    .dataframe tbody tr th {\n",
       "        vertical-align: top;\n",
       "    }\n",
       "</style>\n",
       "<table border=\"1\" class=\"dataframe\">\n",
       "  <thead>\n",
       "    <tr style=\"text-align: right;\">\n",
       "      <th></th>\n",
       "      <th>year</th>\n",
       "      <th>miles</th>\n",
       "      <th>brand_acura</th>\n",
       "      <th>brand_alfa</th>\n",
       "      <th>brand_aston</th>\n",
       "      <th>brand_audi</th>\n",
       "      <th>brand_bentley</th>\n",
       "      <th>brand_bmw</th>\n",
       "      <th>brand_cadillac</th>\n",
       "      <th>brand_chevrolet</th>\n",
       "      <th>...</th>\n",
       "      <th>model_xk8</th>\n",
       "      <th>model_xkr</th>\n",
       "      <th>model_xterra</th>\n",
       "      <th>model_xts</th>\n",
       "      <th>model_xv</th>\n",
       "      <th>model_yaris</th>\n",
       "      <th>model_yukon</th>\n",
       "      <th>model_z3</th>\n",
       "      <th>model_z4</th>\n",
       "      <th>model_zdx</th>\n",
       "    </tr>\n",
       "  </thead>\n",
       "  <tbody>\n",
       "    <tr>\n",
       "      <th>0</th>\n",
       "      <td>2011.0</td>\n",
       "      <td>30000.0</td>\n",
       "      <td>0.0</td>\n",
       "      <td>0.0</td>\n",
       "      <td>0.0</td>\n",
       "      <td>0.0</td>\n",
       "      <td>0.0</td>\n",
       "      <td>0.0</td>\n",
       "      <td>0.0</td>\n",
       "      <td>0.0</td>\n",
       "      <td>...</td>\n",
       "      <td>0.0</td>\n",
       "      <td>0.0</td>\n",
       "      <td>0.0</td>\n",
       "      <td>0.0</td>\n",
       "      <td>0.0</td>\n",
       "      <td>0.0</td>\n",
       "      <td>0.0</td>\n",
       "      <td>0.0</td>\n",
       "      <td>0.0</td>\n",
       "      <td>0.0</td>\n",
       "    </tr>\n",
       "  </tbody>\n",
       "</table>\n",
       "<p>1 rows × 445 columns</p>\n",
       "</div>"
      ],
      "text/plain": [
       "     year    miles  brand_acura  brand_alfa  brand_aston  brand_audi  \\\n",
       "0  2011.0  30000.0          0.0         0.0          0.0         0.0   \n",
       "\n",
       "   brand_bentley  brand_bmw  brand_cadillac  brand_chevrolet    ...      \\\n",
       "0            0.0        0.0             0.0              0.0    ...       \n",
       "\n",
       "   model_xk8  model_xkr  model_xterra  model_xts  model_xv  model_yaris  \\\n",
       "0        0.0        0.0           0.0        0.0       0.0          0.0   \n",
       "\n",
       "   model_yukon  model_z3  model_z4  model_zdx  \n",
       "0          0.0       0.0       0.0        0.0  \n",
       "\n",
       "[1 rows x 445 columns]"
      ]
     },
     "execution_count": 31,
     "metadata": {},
     "output_type": "execute_result"
    }
   ],
   "source": [
    "target"
   ]
  },
  {
   "cell_type": "code",
   "execution_count": 32,
   "metadata": {},
   "outputs": [],
   "source": [
    "# Nomalizing numerical features\n",
    "numerical_features = ['year', 'miles']\n",
    "target[numerical_features] = np.log1p(target[numerical_features])"
   ]
  },
  {
   "cell_type": "code",
   "execution_count": 33,
   "metadata": {},
   "outputs": [
    {
     "data": {
      "text/html": [
       "<div>\n",
       "<style>\n",
       "    .dataframe thead tr:only-child th {\n",
       "        text-align: right;\n",
       "    }\n",
       "\n",
       "    .dataframe thead th {\n",
       "        text-align: left;\n",
       "    }\n",
       "\n",
       "    .dataframe tbody tr th {\n",
       "        vertical-align: top;\n",
       "    }\n",
       "</style>\n",
       "<table border=\"1\" class=\"dataframe\">\n",
       "  <thead>\n",
       "    <tr style=\"text-align: right;\">\n",
       "      <th></th>\n",
       "      <th>year</th>\n",
       "      <th>miles</th>\n",
       "      <th>brand_acura</th>\n",
       "      <th>brand_alfa</th>\n",
       "      <th>brand_aston</th>\n",
       "      <th>brand_audi</th>\n",
       "      <th>brand_bentley</th>\n",
       "      <th>brand_bmw</th>\n",
       "      <th>brand_cadillac</th>\n",
       "      <th>brand_chevrolet</th>\n",
       "      <th>...</th>\n",
       "      <th>model_xk8</th>\n",
       "      <th>model_xkr</th>\n",
       "      <th>model_xterra</th>\n",
       "      <th>model_xts</th>\n",
       "      <th>model_xv</th>\n",
       "      <th>model_yaris</th>\n",
       "      <th>model_yukon</th>\n",
       "      <th>model_z3</th>\n",
       "      <th>model_z4</th>\n",
       "      <th>model_zdx</th>\n",
       "    </tr>\n",
       "  </thead>\n",
       "  <tbody>\n",
       "    <tr>\n",
       "      <th>0</th>\n",
       "      <td>7.606885</td>\n",
       "      <td>10.308986</td>\n",
       "      <td>0.0</td>\n",
       "      <td>0.0</td>\n",
       "      <td>0.0</td>\n",
       "      <td>0.0</td>\n",
       "      <td>0.0</td>\n",
       "      <td>0.0</td>\n",
       "      <td>0.0</td>\n",
       "      <td>0.0</td>\n",
       "      <td>...</td>\n",
       "      <td>0.0</td>\n",
       "      <td>0.0</td>\n",
       "      <td>0.0</td>\n",
       "      <td>0.0</td>\n",
       "      <td>0.0</td>\n",
       "      <td>0.0</td>\n",
       "      <td>0.0</td>\n",
       "      <td>0.0</td>\n",
       "      <td>0.0</td>\n",
       "      <td>0.0</td>\n",
       "    </tr>\n",
       "  </tbody>\n",
       "</table>\n",
       "<p>1 rows × 445 columns</p>\n",
       "</div>"
      ],
      "text/plain": [
       "       year      miles  brand_acura  brand_alfa  brand_aston  brand_audi  \\\n",
       "0  7.606885  10.308986          0.0         0.0          0.0         0.0   \n",
       "\n",
       "   brand_bentley  brand_bmw  brand_cadillac  brand_chevrolet    ...      \\\n",
       "0            0.0        0.0             0.0              0.0    ...       \n",
       "\n",
       "   model_xk8  model_xkr  model_xterra  model_xts  model_xv  model_yaris  \\\n",
       "0        0.0        0.0           0.0        0.0       0.0          0.0   \n",
       "\n",
       "   model_yukon  model_z3  model_z4  model_zdx  \n",
       "0          0.0       0.0       0.0        0.0  \n",
       "\n",
       "[1 rows x 445 columns]"
      ]
     },
     "execution_count": 33,
     "metadata": {},
     "output_type": "execute_result"
    }
   ],
   "source": [
    "target"
   ]
  },
  {
   "cell_type": "markdown",
   "metadata": {},
   "source": [
    "### Predict Used_Car Values"
   ]
  },
  {
   "cell_type": "code",
   "execution_count": 34,
   "metadata": {},
   "outputs": [],
   "source": [
    "# Predicted logged price\n",
    "price_log = ml.predict(target)"
   ]
  },
  {
   "cell_type": "code",
   "execution_count": 35,
   "metadata": {},
   "outputs": [
    {
     "data": {
      "text/plain": [
       "array([ 10.08207607], dtype=float32)"
      ]
     },
     "execution_count": 35,
     "metadata": {},
     "output_type": "execute_result"
    }
   ],
   "source": [
    "price_log"
   ]
  },
  {
   "cell_type": "code",
   "execution_count": 36,
   "metadata": {},
   "outputs": [
    {
     "name": "stdout",
     "output_type": "stream",
     "text": [
      "Price: 23910\n"
     ]
    }
   ],
   "source": [
    "# Revert the logged price back to its original price\n",
    "price = np.exp(price_log)\n",
    "print(\"Price:\", int(price))"
   ]
  },
  {
   "cell_type": "markdown",
   "metadata": {},
   "source": [
    "### Compare same model with different years"
   ]
  },
  {
   "cell_type": "code",
   "execution_count": 37,
   "metadata": {},
   "outputs": [
    {
     "data": {
      "text/html": [
       "<div>\n",
       "<style>\n",
       "    .dataframe thead tr:only-child th {\n",
       "        text-align: right;\n",
       "    }\n",
       "\n",
       "    .dataframe thead th {\n",
       "        text-align: left;\n",
       "    }\n",
       "\n",
       "    .dataframe tbody tr th {\n",
       "        vertical-align: top;\n",
       "    }\n",
       "</style>\n",
       "<table border=\"1\" class=\"dataframe\">\n",
       "  <thead>\n",
       "    <tr style=\"text-align: right;\">\n",
       "      <th></th>\n",
       "      <th>year</th>\n",
       "      <th>price</th>\n",
       "    </tr>\n",
       "  </thead>\n",
       "  <tbody>\n",
       "    <tr>\n",
       "      <th>0</th>\n",
       "      <td>1995</td>\n",
       "      <td>2475</td>\n",
       "    </tr>\n",
       "    <tr>\n",
       "      <th>1</th>\n",
       "      <td>1996</td>\n",
       "      <td>1795</td>\n",
       "    </tr>\n",
       "    <tr>\n",
       "      <th>2</th>\n",
       "      <td>2001</td>\n",
       "      <td>2597</td>\n",
       "    </tr>\n",
       "    <tr>\n",
       "      <th>3</th>\n",
       "      <td>2002</td>\n",
       "      <td>8500</td>\n",
       "    </tr>\n",
       "    <tr>\n",
       "      <th>4</th>\n",
       "      <td>2003</td>\n",
       "      <td>7489</td>\n",
       "    </tr>\n",
       "    <tr>\n",
       "      <th>5</th>\n",
       "      <td>2004</td>\n",
       "      <td>6745</td>\n",
       "    </tr>\n",
       "    <tr>\n",
       "      <th>6</th>\n",
       "      <td>2005</td>\n",
       "      <td>7910</td>\n",
       "    </tr>\n",
       "    <tr>\n",
       "      <th>7</th>\n",
       "      <td>2006</td>\n",
       "      <td>5196</td>\n",
       "    </tr>\n",
       "    <tr>\n",
       "      <th>8</th>\n",
       "      <td>2007</td>\n",
       "      <td>12492</td>\n",
       "    </tr>\n",
       "    <tr>\n",
       "      <th>9</th>\n",
       "      <td>2008</td>\n",
       "      <td>12612</td>\n",
       "    </tr>\n",
       "    <tr>\n",
       "      <th>10</th>\n",
       "      <td>2009</td>\n",
       "      <td>19195</td>\n",
       "    </tr>\n",
       "    <tr>\n",
       "      <th>11</th>\n",
       "      <td>2010</td>\n",
       "      <td>15884</td>\n",
       "    </tr>\n",
       "    <tr>\n",
       "      <th>12</th>\n",
       "      <td>2011</td>\n",
       "      <td>18330</td>\n",
       "    </tr>\n",
       "    <tr>\n",
       "      <th>13</th>\n",
       "      <td>2012</td>\n",
       "      <td>15680</td>\n",
       "    </tr>\n",
       "    <tr>\n",
       "      <th>14</th>\n",
       "      <td>2013</td>\n",
       "      <td>70430</td>\n",
       "    </tr>\n",
       "    <tr>\n",
       "      <th>15</th>\n",
       "      <td>2014</td>\n",
       "      <td>21073</td>\n",
       "    </tr>\n",
       "    <tr>\n",
       "      <th>16</th>\n",
       "      <td>2015</td>\n",
       "      <td>28182</td>\n",
       "    </tr>\n",
       "    <tr>\n",
       "      <th>17</th>\n",
       "      <td>2016</td>\n",
       "      <td>30292</td>\n",
       "    </tr>\n",
       "    <tr>\n",
       "      <th>18</th>\n",
       "      <td>2017</td>\n",
       "      <td>44804</td>\n",
       "    </tr>\n",
       "    <tr>\n",
       "      <th>19</th>\n",
       "      <td>2018</td>\n",
       "      <td>69313</td>\n",
       "    </tr>\n",
       "  </tbody>\n",
       "</table>\n",
       "</div>"
      ],
      "text/plain": [
       "    year  price\n",
       "0   1995   2475\n",
       "1   1996   1795\n",
       "2   2001   2597\n",
       "3   2002   8500\n",
       "4   2003   7489\n",
       "5   2004   6745\n",
       "6   2005   7910\n",
       "7   2006   5196\n",
       "8   2007  12492\n",
       "9   2008  12612\n",
       "10  2009  19195\n",
       "11  2010  15884\n",
       "12  2011  18330\n",
       "13  2012  15680\n",
       "14  2013  70430\n",
       "15  2014  21073\n",
       "16  2015  28182\n",
       "17  2016  30292\n",
       "18  2017  44804\n",
       "19  2018  69313"
      ]
     },
     "execution_count": 37,
     "metadata": {},
     "output_type": "execute_result"
    }
   ],
   "source": [
    "# Find the average of the same model for each year\n",
    "same_model = actual_car_info[actual_car_info[\"model\"]==model] \n",
    "year_price = same_model[[\"year\", \"price\"]]\n",
    "year_price_list = year_price.groupby(\"year\").agg({'price':np.mean}).astype('int')\n",
    "year_price_list = year_price_list.reset_index()\n",
    "year_price_list"
   ]
  },
  {
   "cell_type": "code",
   "execution_count": 38,
   "metadata": {},
   "outputs": [],
   "source": [
    "# Convert year from number type to character type\n",
    "year_price_list[\"year\"] = year_price_list[\"year\"].apply(lambda x: str(x) )"
   ]
  },
  {
   "cell_type": "code",
   "execution_count": 39,
   "metadata": {},
   "outputs": [],
   "source": [
    "# Convert price from number type to character type\n",
    "year_price_list[\"price\"] = year_price_list[\"price\"].apply(lambda x: str(x) )"
   ]
  },
  {
   "cell_type": "code",
   "execution_count": 40,
   "metadata": {},
   "outputs": [
    {
     "data": {
      "text/plain": [
       "['2475',\n",
       " '1795',\n",
       " '2597',\n",
       " '8500',\n",
       " '7489',\n",
       " '6745',\n",
       " '7910',\n",
       " '5196',\n",
       " '12492',\n",
       " '12612',\n",
       " '19195',\n",
       " '15884',\n",
       " '18330',\n",
       " '15680',\n",
       " '70430',\n",
       " '21073',\n",
       " '28182',\n",
       " '30292',\n",
       " '44804',\n",
       " '69313']"
      ]
     },
     "execution_count": 40,
     "metadata": {},
     "output_type": "execute_result"
    }
   ],
   "source": [
    "list(year_price_list[\"price\"])"
   ]
  }
 ],
 "metadata": {
  "kernelspec": {
   "display_name": "Python 3",
   "language": "python",
   "name": "python3"
  },
  "language_info": {
   "codemirror_mode": {
    "name": "ipython",
    "version": 3
   },
   "file_extension": ".py",
   "mimetype": "text/x-python",
   "name": "python",
   "nbconvert_exporter": "python",
   "pygments_lexer": "ipython3",
   "version": "3.6.3"
  }
 },
 "nbformat": 4,
 "nbformat_minor": 2
}
