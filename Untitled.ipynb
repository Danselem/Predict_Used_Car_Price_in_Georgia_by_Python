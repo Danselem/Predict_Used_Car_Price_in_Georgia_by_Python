{
 "cells": [
  {
   "cell_type": "code",
   "execution_count": 4,
   "metadata": {},
   "outputs": [
    {
     "name": "stdout",
     "output_type": "stream",
     "text": [
      "\u001b[34mFlask\u001b[m\u001b[m\r\n",
      "\u001b[31mGeorgia_Used_Car_Price_Crawling_to_Mysql.ipynb\u001b[m\u001b[m\r\n",
      "Georgia_Used_Car_Price_Crawling_to_Mysql.py\r\n",
      "Georgia_Used_Car_Price_Mysql_to_Model.ipynb\r\n",
      "Georgia_Used_Car_Price_Mysql_to_Model.py\r\n",
      "README.md\r\n",
      "Untitled.ipynb\r\n",
      "\u001b[34mimg\u001b[m\u001b[m\r\n",
      "pw.pickle\r\n"
     ]
    }
   ],
   "source": [
    "!ls"
   ]
  },
  {
   "cell_type": "code",
   "execution_count": 2,
   "metadata": {},
   "outputs": [],
   "source": [
    "import pickle"
   ]
  },
  {
   "cell_type": "code",
   "execution_count": 3,
   "metadata": {},
   "outputs": [],
   "source": [
    "pw = \"6868\"\n",
    "file = open(\"pw.pickle\", \"wb\")\n",
    "pickle.dump(pw, file)"
   ]
  },
  {
   "cell_type": "code",
   "execution_count": null,
   "metadata": {},
   "outputs": [],
   "source": []
  }
 ],
 "metadata": {
  "kernelspec": {
   "display_name": "Python 3",
   "language": "python",
   "name": "python3"
  },
  "language_info": {
   "codemirror_mode": {
    "name": "ipython",
    "version": 3
   },
   "file_extension": ".py",
   "mimetype": "text/x-python",
   "name": "python",
   "nbconvert_exporter": "python",
   "pygments_lexer": "ipython3",
   "version": "3.7.2"
  }
 },
 "nbformat": 4,
 "nbformat_minor": 2
}
